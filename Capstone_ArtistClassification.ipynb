{
 "cells": [
  {
   "cell_type": "markdown",
   "metadata": {},
   "source": [
    "# Downloading Data From Kaggle for Google Colab "
   ]
  },
  {
   "cell_type": "code",
   "execution_count": 1,
   "metadata": {
    "id": "fP2O-4rkV9Xv"
   },
   "outputs": [],
   "source": [
    "!mkdir ~/.kaggle "
   ]
  },
  {
   "cell_type": "code",
   "execution_count": 2,
   "metadata": {
    "id": "ihXbz43gWKdv"
   },
   "outputs": [],
   "source": [
    "!echo '{\"username\":\"shwetankyadav\",\"key\":\"6bb6f2981249fcfde1c501ed5eb70033\"}' > ~/.kaggle/kaggle.json"
   ]
  },
  {
   "cell_type": "code",
   "execution_count": 3,
   "metadata": {
    "id": "Q4tRsP4aXHmU"
   },
   "outputs": [],
   "source": [
    "!chmod 600 ~/.kaggle/kaggle.json  "
   ]
  },
  {
   "cell_type": "code",
   "execution_count": null,
   "metadata": {
    "colab": {
     "base_uri": "https://localhost:8080/"
    },
    "id": "mwliHWrhXPOt",
    "outputId": "feaa660d-377a-45a4-d9d9-249313cc49c9"
   },
   "outputs": [],
   "source": [
    "!pip install kaggle"
   ]
  },
  {
   "cell_type": "code",
   "execution_count": 4,
   "metadata": {
    "colab": {
     "base_uri": "https://localhost:8080/"
    },
    "id": "ALOXQU_XXTGu",
    "outputId": "baddaf68-fa89-48da-86cd-76aec5c5dc73"
   },
   "outputs": [
    {
     "name": "stdout",
     "output_type": "stream",
     "text": [
      "Downloading train.zip to /content\n",
      "100% 36.0G/36.0G [11:16<00:00, 84.0MB/s]\n",
      "100% 36.0G/36.0G [11:16<00:00, 57.2MB/s]\n"
     ]
    }
   ],
   "source": [
    "!kaggle competitions download -c painter-by-numbers -f train.zip"
   ]
  },
  {
   "cell_type": "code",
   "execution_count": 5,
   "metadata": {
    "id": "ozq-TJym7GY2"
   },
   "outputs": [],
   "source": [
    "!unzip -o -q train.zip "
   ]
  },
  {
   "cell_type": "code",
   "execution_count": 6,
   "metadata": {
    "id": "AKn0Fyhp7bHr"
   },
   "outputs": [],
   "source": [
    "!rm -r train.zip"
   ]
  },
  {
   "cell_type": "code",
   "execution_count": 7,
   "metadata": {
    "colab": {
     "base_uri": "https://localhost:8080/"
    },
    "id": "vM1To6BjIkf8",
    "outputId": "b368f055-a6d6-4680-e9bf-f800e574d359"
   },
   "outputs": [
    {
     "name": "stdout",
     "output_type": "stream",
     "text": [
      "Downloading test.zip to /content\n",
      "100% 11.1G/11.1G [03:14<00:00, 47.9MB/s]\n",
      "100% 11.1G/11.1G [03:14<00:00, 61.1MB/s]\n"
     ]
    }
   ],
   "source": [
    "!kaggle competitions download -c painter-by-numbers -f test.zip"
   ]
  },
  {
   "cell_type": "code",
   "execution_count": 8,
   "metadata": {
    "id": "cUUur-MPIogH"
   },
   "outputs": [],
   "source": [
    "!unzip -o -q test.zip "
   ]
  },
  {
   "cell_type": "code",
   "execution_count": 9,
   "metadata": {
    "id": "h-STZayR4PJ2"
   },
   "outputs": [],
   "source": [
    "!rm -r test.zip"
   ]
  },
  {
   "cell_type": "code",
   "execution_count": 10,
   "metadata": {
    "colab": {
     "base_uri": "https://localhost:8080/"
    },
    "id": "l66P8viHgS0G",
    "outputId": "69275aa9-d3cc-4e9a-d558-bd2724bbca99"
   },
   "outputs": [
    {
     "name": "stdout",
     "output_type": "stream",
     "text": [
      "37G\ttrain/\n"
     ]
    }
   ],
   "source": [
    "!du -h train/"
   ]
  },
  {
   "cell_type": "code",
   "execution_count": 11,
   "metadata": {
    "colab": {
     "base_uri": "https://localhost:8080/"
    },
    "id": "Ix3uKvn5JWUM",
    "outputId": "ff2cef0e-b5cd-4847-837c-67eb98f6dcdf"
   },
   "outputs": [
    {
     "name": "stdout",
     "output_type": "stream",
     "text": [
      "Downloading replacements_for_corrupted_files.zip to /content\n",
      " 97% 17.0M/17.5M [00:00<00:00, 22.4MB/s]\n",
      "100% 17.5M/17.5M [00:00<00:00, 32.5MB/s]\n"
     ]
    }
   ],
   "source": [
    "!kaggle competitions download -c painter-by-numbers -f replacements_for_corrupted_files.zip"
   ]
  },
  {
   "cell_type": "code",
   "execution_count": 12,
   "metadata": {
    "id": "G5uLkGevJzcq"
   },
   "outputs": [],
   "source": [
    "!unzip -o -q replacements_for_corrupted_files.zip "
   ]
  },
  {
   "cell_type": "code",
   "execution_count": 13,
   "metadata": {
    "colab": {
     "base_uri": "https://localhost:8080/"
    },
    "id": "cj-7sr_57YI6",
    "outputId": "dc016719-bbc7-436b-9e32-9bc4c0918700"
   },
   "outputs": [
    {
     "name": "stdout",
     "output_type": "stream",
     "text": [
      "Downloading all_data_info.csv.zip to /content\n",
      "  0% 0.00/3.80M [00:00<?, ?B/s]\n",
      "100% 3.80M/3.80M [00:00<00:00, 62.3MB/s]\n"
     ]
    }
   ],
   "source": [
    "!kaggle competitions download -c painter-by-numbers -f all_data_info.csv"
   ]
  },
  {
   "cell_type": "code",
   "execution_count": 14,
   "metadata": {
    "id": "Skz7fhwZ7eZ1"
   },
   "outputs": [],
   "source": [
    "!unzip -q all_data_info.csv.zip"
   ]
  },
  {
   "cell_type": "markdown",
   "metadata": {
    "id": "x-3Woliy8i53"
   },
   "source": [
    "# Start of Modelling"
   ]
  },
  {
   "cell_type": "markdown",
   "metadata": {},
   "source": [
    "### Filtering"
   ]
  },
  {
   "cell_type": "code",
   "execution_count": 15,
   "metadata": {
    "id": "qDUM4MuXI9dL"
   },
   "outputs": [],
   "source": [
    "import numpy as np\n",
    "import pandas as pd\n",
    "import matplotlib.pyplot as plt\n",
    "import seaborn as sns"
   ]
  },
  {
   "cell_type": "code",
   "execution_count": 21,
   "metadata": {
    "id": "td6GcEbhPD2N"
   },
   "outputs": [],
   "source": [
    "# Certain Parameter values for selecting training subsets\n",
    "num_classes=20     #Number of classes to target\n",
    "SampleSize=377    #Number of samples per class to include in training (check below 'styles' series to see number of examples per class in raw data)"
   ]
  },
  {
   "cell_type": "code",
   "execution_count": 44,
   "metadata": {
    "id": "gVXSbhHTJAjO"
   },
   "outputs": [],
   "source": [
    "df=pd.read_csv(\"all_data_info.csv\")"
   ]
  },
  {
   "cell_type": "code",
   "execution_count": 45,
   "metadata": {
    "id": "VM2I2xNYKf2U"
   },
   "outputs": [],
   "source": [
    "df=df.drop(df[df['artist'].isna()].index)\n",
    "df['pixels']=df['pixelsx']*df['pixelsy']\n",
    "df=df.drop(df[df['pixels']>89478485].index)      #Drop images above certain pixel size which seems to cause processing bomb error\n",
    "df=df.drop(df[df['size_bytes']>5.4e7].index)      #Drop images under certain size to again reduce processing error for too large size\n",
    "#df=df[ ((df['pixelsy']/df['pixelsx']) < 2.5) & ((df['pixelsy']/df['pixelsx']) > 0.4) ]  #Remove images whose dimen ratios are too extreme (as all are compressed to squares). Did not affect accuracy much so ignored\n",
    "dftest=df[df['in_train']==False] \n",
    "df=df[df['in_train']==True] "
   ]
  },
  {
   "cell_type": "code",
   "execution_count": 46,
   "metadata": {
    "colab": {
     "base_uri": "https://localhost:8080/"
    },
    "id": "v9rGh7X7LNk_",
    "outputId": "f99132c7-af8b-4903-b186-802573417197"
   },
   "outputs": [
    {
     "data": {
      "text/plain": [
       "Paul Cezanne                  412\n",
       "Giovanni Battista Piranesi    402\n",
       "Martiros Saryan               399\n",
       "Ilya Repin                    397\n",
       "Camille Pissarro              393\n",
       "Vincent van Gogh              392\n",
       "Theophile Steinlen            389\n",
       "Boris Kustodiev               388\n",
       "Pyotr Konchalovsky            388\n",
       "Pierre-Auguste Renoir         388\n",
       "Camille Corot                 387\n",
       "Eugene Boudin                 387\n",
       "Edgar Degas                   387\n",
       "Gustave Dore                  387\n",
       "Henri Matisse                 384\n",
       "Albrecht Durer                383\n",
       "Claude Monet                  383\n",
       "Ivan Aivazovsky               378\n",
       "John Singer Sargent           377\n",
       "Pablo Picasso                 377\n",
       "Name: artist, dtype: int64"
      ]
     },
     "execution_count": 46,
     "metadata": {
      "tags": []
     },
     "output_type": "execute_result"
    }
   ],
   "source": [
    "artists=df['artist'].value_counts()       #Get number of images from each artist\n",
    "\n",
    "artists=artists.head(20)             #Get top 20 artists in terms of numbers of images\n",
    "artists"
   ]
  },
  {
   "cell_type": "markdown",
   "metadata": {},
   "source": [
    "Apply filter mask to test training set dataframe:"
   ]
  },
  {
   "cell_type": "code",
   "execution_count": 47,
   "metadata": {
    "colab": {
     "base_uri": "https://localhost:8080/",
     "height": 419
    },
    "id": "TN4MQKbdILxC",
    "outputId": "f88f9a75-f44f-4e3c-b30b-010a10764f22"
   },
   "outputs": [
    {
     "data": {
      "text/html": [
       "<div>\n",
       "<style scoped>\n",
       "    .dataframe tbody tr th:only-of-type {\n",
       "        vertical-align: middle;\n",
       "    }\n",
       "\n",
       "    .dataframe tbody tr th {\n",
       "        vertical-align: top;\n",
       "    }\n",
       "\n",
       "    .dataframe thead th {\n",
       "        text-align: right;\n",
       "    }\n",
       "</style>\n",
       "<table border=\"1\" class=\"dataframe\">\n",
       "  <thead>\n",
       "    <tr style=\"text-align: right;\">\n",
       "      <th></th>\n",
       "      <th>artist</th>\n",
       "      <th>date</th>\n",
       "      <th>genre</th>\n",
       "      <th>pixelsx</th>\n",
       "      <th>pixelsy</th>\n",
       "      <th>size_bytes</th>\n",
       "      <th>source</th>\n",
       "      <th>style</th>\n",
       "      <th>title</th>\n",
       "      <th>artist_group</th>\n",
       "      <th>in_train</th>\n",
       "      <th>new_filename</th>\n",
       "      <th>pixels</th>\n",
       "    </tr>\n",
       "  </thead>\n",
       "  <tbody>\n",
       "    <tr>\n",
       "      <th>34</th>\n",
       "      <td>Gustave Dore</td>\n",
       "      <td>NaN</td>\n",
       "      <td>illustration</td>\n",
       "      <td>5878.0</td>\n",
       "      <td>4678.0</td>\n",
       "      <td>24158097.0</td>\n",
       "      <td>wikiart</td>\n",
       "      <td>Romanticism</td>\n",
       "      <td>The hoarders and wasters</td>\n",
       "      <td>train_and_test</td>\n",
       "      <td>False</td>\n",
       "      <td>31977.jpg</td>\n",
       "      <td>27497284.0</td>\n",
       "    </tr>\n",
       "    <tr>\n",
       "      <th>279</th>\n",
       "      <td>Pierre-Auguste Renoir</td>\n",
       "      <td>1917</td>\n",
       "      <td>sketch and study</td>\n",
       "      <td>4476.0</td>\n",
       "      <td>3396.0</td>\n",
       "      <td>8423735.0</td>\n",
       "      <td>wikiart</td>\n",
       "      <td>Impressionism</td>\n",
       "      <td>Sitting Girl</td>\n",
       "      <td>train_and_test</td>\n",
       "      <td>False</td>\n",
       "      <td>85018.jpg</td>\n",
       "      <td>15200496.0</td>\n",
       "    </tr>\n",
       "    <tr>\n",
       "      <th>580</th>\n",
       "      <td>Claude Monet</td>\n",
       "      <td>1873</td>\n",
       "      <td>landscape</td>\n",
       "      <td>4500.0</td>\n",
       "      <td>2706.0</td>\n",
       "      <td>3146250.0</td>\n",
       "      <td>wikiart</td>\n",
       "      <td>Impressionism</td>\n",
       "      <td>Apple Trees in Bloom</td>\n",
       "      <td>train_and_test</td>\n",
       "      <td>False</td>\n",
       "      <td>35919.jpg</td>\n",
       "      <td>12177000.0</td>\n",
       "    </tr>\n",
       "    <tr>\n",
       "      <th>586</th>\n",
       "      <td>Theophile Steinlen</td>\n",
       "      <td>NaN</td>\n",
       "      <td>sketch and study</td>\n",
       "      <td>3103.0</td>\n",
       "      <td>3900.0</td>\n",
       "      <td>542358.0</td>\n",
       "      <td>wikiart</td>\n",
       "      <td>Realism</td>\n",
       "      <td>Two elegant women</td>\n",
       "      <td>train_and_test</td>\n",
       "      <td>False</td>\n",
       "      <td>3920.jpg</td>\n",
       "      <td>12101700.0</td>\n",
       "    </tr>\n",
       "    <tr>\n",
       "      <th>665</th>\n",
       "      <td>Giovanni Battista Piranesi</td>\n",
       "      <td>NaN</td>\n",
       "      <td>cityscape</td>\n",
       "      <td>3899.0</td>\n",
       "      <td>2930.0</td>\n",
       "      <td>3923213.0</td>\n",
       "      <td>wikiart</td>\n",
       "      <td>Neoclassicism</td>\n",
       "      <td>Vedute di Roma</td>\n",
       "      <td>train_and_test</td>\n",
       "      <td>False</td>\n",
       "      <td>85670.jpg</td>\n",
       "      <td>11424070.0</td>\n",
       "    </tr>\n",
       "    <tr>\n",
       "      <th>...</th>\n",
       "      <td>...</td>\n",
       "      <td>...</td>\n",
       "      <td>...</td>\n",
       "      <td>...</td>\n",
       "      <td>...</td>\n",
       "      <td>...</td>\n",
       "      <td>...</td>\n",
       "      <td>...</td>\n",
       "      <td>...</td>\n",
       "      <td>...</td>\n",
       "      <td>...</td>\n",
       "      <td>...</td>\n",
       "      <td>...</td>\n",
       "    </tr>\n",
       "    <tr>\n",
       "      <th>100935</th>\n",
       "      <td>Pyotr Konchalovsky</td>\n",
       "      <td>1928</td>\n",
       "      <td>cityscape</td>\n",
       "      <td>378.0</td>\n",
       "      <td>450.0</td>\n",
       "      <td>35137.0</td>\n",
       "      <td>wikiart</td>\n",
       "      <td>Post-Impressionism</td>\n",
       "      <td>Novgorod. Kukui Tower.</td>\n",
       "      <td>train_and_test</td>\n",
       "      <td>False</td>\n",
       "      <td>23474.jpg</td>\n",
       "      <td>170100.0</td>\n",
       "    </tr>\n",
       "    <tr>\n",
       "      <th>101117</th>\n",
       "      <td>Pyotr Konchalovsky</td>\n",
       "      <td>1928</td>\n",
       "      <td>landscape</td>\n",
       "      <td>450.0</td>\n",
       "      <td>375.0</td>\n",
       "      <td>37555.0</td>\n",
       "      <td>wikiart</td>\n",
       "      <td>Post-Impressionism</td>\n",
       "      <td>Fishing boats. Drying the sails.</td>\n",
       "      <td>train_and_test</td>\n",
       "      <td>False</td>\n",
       "      <td>59923.jpg</td>\n",
       "      <td>168750.0</td>\n",
       "    </tr>\n",
       "    <tr>\n",
       "      <th>101175</th>\n",
       "      <td>Pyotr Konchalovsky</td>\n",
       "      <td>1940</td>\n",
       "      <td>flower painting</td>\n",
       "      <td>374.0</td>\n",
       "      <td>450.0</td>\n",
       "      <td>52028.0</td>\n",
       "      <td>wikiart</td>\n",
       "      <td>Realism</td>\n",
       "      <td>Still Life. Lilacs in the window.</td>\n",
       "      <td>train_and_test</td>\n",
       "      <td>False</td>\n",
       "      <td>60223.jpg</td>\n",
       "      <td>168300.0</td>\n",
       "    </tr>\n",
       "    <tr>\n",
       "      <th>101788</th>\n",
       "      <td>Henri Matisse</td>\n",
       "      <td>NaN</td>\n",
       "      <td>portrait</td>\n",
       "      <td>350.0</td>\n",
       "      <td>466.0</td>\n",
       "      <td>38943.0</td>\n",
       "      <td>wikiart</td>\n",
       "      <td>Post-Impressionism</td>\n",
       "      <td>Unknown</td>\n",
       "      <td>train_and_test</td>\n",
       "      <td>False</td>\n",
       "      <td>23754.jpg</td>\n",
       "      <td>163100.0</td>\n",
       "    </tr>\n",
       "    <tr>\n",
       "      <th>102200</th>\n",
       "      <td>Camille Corot</td>\n",
       "      <td>1843</td>\n",
       "      <td>cityscape</td>\n",
       "      <td>496.0</td>\n",
       "      <td>322.0</td>\n",
       "      <td>36142.0</td>\n",
       "      <td>wikiart</td>\n",
       "      <td>Realism</td>\n",
       "      <td>The Arch of Constantine and the Forum, Rome</td>\n",
       "      <td>train_and_test</td>\n",
       "      <td>False</td>\n",
       "      <td>18645.jpg</td>\n",
       "      <td>159712.0</td>\n",
       "    </tr>\n",
       "  </tbody>\n",
       "</table>\n",
       "<p>2167 rows × 13 columns</p>\n",
       "</div>"
      ],
      "text/plain": [
       "                            artist  date  ... new_filename      pixels\n",
       "34                    Gustave Dore   NaN  ...    31977.jpg  27497284.0\n",
       "279          Pierre-Auguste Renoir  1917  ...    85018.jpg  15200496.0\n",
       "580                   Claude Monet  1873  ...    35919.jpg  12177000.0\n",
       "586             Theophile Steinlen   NaN  ...     3920.jpg  12101700.0\n",
       "665     Giovanni Battista Piranesi   NaN  ...    85670.jpg  11424070.0\n",
       "...                            ...   ...  ...          ...         ...\n",
       "100935          Pyotr Konchalovsky  1928  ...    23474.jpg    170100.0\n",
       "101117          Pyotr Konchalovsky  1928  ...    59923.jpg    168750.0\n",
       "101175          Pyotr Konchalovsky  1940  ...    60223.jpg    168300.0\n",
       "101788               Henri Matisse   NaN  ...    23754.jpg    163100.0\n",
       "102200               Camille Corot  1843  ...    18645.jpg    159712.0\n",
       "\n",
       "[2167 rows x 13 columns]"
      ]
     },
     "execution_count": 47,
     "metadata": {
      "tags": []
     },
     "output_type": "execute_result"
    }
   ],
   "source": [
    "artiststest=dftest['artist'].isin(artists.index) \n",
    "dftest=dftest[artiststest]\n",
    "dftest"
   ]
  },
  {
   "cell_type": "code",
   "execution_count": 48,
   "metadata": {
    "colab": {
     "base_uri": "https://localhost:8080/"
    },
    "id": "gbOOqiKZR5iR",
    "outputId": "a90936d9-4b38-4c31-9fc5-9b1b426658a9"
   },
   "outputs": [
    {
     "data": {
      "text/plain": [
       "Pablo Picasso                 123\n",
       "John Singer Sargent           123\n",
       "Ivan Aivazovsky               122\n",
       "Albrecht Durer                117\n",
       "Claude Monet                  115\n",
       "Gustave Dore                  113\n",
       "Pierre-Auguste Renoir         112\n",
       "Henri Matisse                 111\n",
       "Pyotr Konchalovsky            111\n",
       "Boris Kustodiev               110\n",
       "Eugene Boudin                 109\n",
       "Edgar Degas                   108\n",
       "Camille Pissarro              106\n",
       "Ilya Repin                    103\n",
       "Vincent van Gogh              102\n",
       "Camille Corot                 101\n",
       "Martiros Saryan               100\n",
       "Giovanni Battista Piranesi     98\n",
       "Theophile Steinlen             96\n",
       "Paul Cezanne                   87\n",
       "Name: artist, dtype: int64"
      ]
     },
     "execution_count": 48,
     "metadata": {
      "tags": []
     },
     "output_type": "execute_result"
    }
   ],
   "source": [
    "dftest['artist'].value_counts()"
   ]
  },
  {
   "cell_type": "markdown",
   "metadata": {},
   "source": [
    "Apply filter mask to only have training images from list of 20 artists:"
   ]
  },
  {
   "cell_type": "code",
   "execution_count": 22,
   "metadata": {
    "colab": {
     "base_uri": "https://localhost:8080/",
     "height": 419
    },
    "id": "Nq6rwRmoLz63",
    "outputId": "f014df10-9e76-4d21-845b-19e7fdd000eb"
   },
   "outputs": [
    {
     "data": {
      "text/html": [
       "<div>\n",
       "<style scoped>\n",
       "    .dataframe tbody tr th:only-of-type {\n",
       "        vertical-align: middle;\n",
       "    }\n",
       "\n",
       "    .dataframe tbody tr th {\n",
       "        vertical-align: top;\n",
       "    }\n",
       "\n",
       "    .dataframe thead th {\n",
       "        text-align: right;\n",
       "    }\n",
       "</style>\n",
       "<table border=\"1\" class=\"dataframe\">\n",
       "  <thead>\n",
       "    <tr style=\"text-align: right;\">\n",
       "      <th></th>\n",
       "      <th>artist</th>\n",
       "      <th>date</th>\n",
       "      <th>genre</th>\n",
       "      <th>pixelsx</th>\n",
       "      <th>pixelsy</th>\n",
       "      <th>size_bytes</th>\n",
       "      <th>source</th>\n",
       "      <th>style</th>\n",
       "      <th>title</th>\n",
       "      <th>artist_group</th>\n",
       "      <th>in_train</th>\n",
       "      <th>new_filename</th>\n",
       "      <th>pixels</th>\n",
       "    </tr>\n",
       "  </thead>\n",
       "  <tbody>\n",
       "    <tr>\n",
       "      <th>14</th>\n",
       "      <td>Ivan Aivazovsky</td>\n",
       "      <td>1873</td>\n",
       "      <td>marina</td>\n",
       "      <td>7444.0</td>\n",
       "      <td>5811.0</td>\n",
       "      <td>3189597.0</td>\n",
       "      <td>wikiart</td>\n",
       "      <td>Romanticism</td>\n",
       "      <td>Storm at sea</td>\n",
       "      <td>train_and_test</td>\n",
       "      <td>True</td>\n",
       "      <td>99442.jpg</td>\n",
       "      <td>43257084.0</td>\n",
       "    </tr>\n",
       "    <tr>\n",
       "      <th>28</th>\n",
       "      <td>Gustave Dore</td>\n",
       "      <td>1866</td>\n",
       "      <td>religious painting</td>\n",
       "      <td>4915.0</td>\n",
       "      <td>6068.0</td>\n",
       "      <td>29811319.0</td>\n",
       "      <td>wikiart</td>\n",
       "      <td>Romanticism</td>\n",
       "      <td>Death of Eleazer</td>\n",
       "      <td>train_and_test</td>\n",
       "      <td>True</td>\n",
       "      <td>7486.jpg</td>\n",
       "      <td>29824220.0</td>\n",
       "    </tr>\n",
       "    <tr>\n",
       "      <th>29</th>\n",
       "      <td>Gustave Dore</td>\n",
       "      <td>NaN</td>\n",
       "      <td>religious painting</td>\n",
       "      <td>4770.0</td>\n",
       "      <td>6219.0</td>\n",
       "      <td>32443139.0</td>\n",
       "      <td>wikiart</td>\n",
       "      <td>Romanticism</td>\n",
       "      <td>The-Deluge</td>\n",
       "      <td>train_and_test</td>\n",
       "      <td>True</td>\n",
       "      <td>35766.jpg</td>\n",
       "      <td>29664630.0</td>\n",
       "    </tr>\n",
       "    <tr>\n",
       "      <th>82</th>\n",
       "      <td>Ivan Aivazovsky</td>\n",
       "      <td>1850</td>\n",
       "      <td>marina</td>\n",
       "      <td>5815.0</td>\n",
       "      <td>3840.0</td>\n",
       "      <td>16019462.0</td>\n",
       "      <td>wikiart</td>\n",
       "      <td>Romanticism</td>\n",
       "      <td>The Ninth Wave</td>\n",
       "      <td>train_and_test</td>\n",
       "      <td>True</td>\n",
       "      <td>81750.jpg</td>\n",
       "      <td>22329600.0</td>\n",
       "    </tr>\n",
       "    <tr>\n",
       "      <th>147</th>\n",
       "      <td>Edgar Degas</td>\n",
       "      <td>1869</td>\n",
       "      <td>interior</td>\n",
       "      <td>5382.0</td>\n",
       "      <td>3349.0</td>\n",
       "      <td>1824204.0</td>\n",
       "      <td>wikiart</td>\n",
       "      <td>Impressionism</td>\n",
       "      <td>Interior (The Rape)</td>\n",
       "      <td>train_and_test</td>\n",
       "      <td>True</td>\n",
       "      <td>95360.jpg</td>\n",
       "      <td>18024318.0</td>\n",
       "    </tr>\n",
       "    <tr>\n",
       "      <th>...</th>\n",
       "      <td>...</td>\n",
       "      <td>...</td>\n",
       "      <td>...</td>\n",
       "      <td>...</td>\n",
       "      <td>...</td>\n",
       "      <td>...</td>\n",
       "      <td>...</td>\n",
       "      <td>...</td>\n",
       "      <td>...</td>\n",
       "      <td>...</td>\n",
       "      <td>...</td>\n",
       "      <td>...</td>\n",
       "      <td>...</td>\n",
       "    </tr>\n",
       "    <tr>\n",
       "      <th>101112</th>\n",
       "      <td>Pyotr Konchalovsky</td>\n",
       "      <td>1928</td>\n",
       "      <td>cityscape</td>\n",
       "      <td>450.0</td>\n",
       "      <td>375.0</td>\n",
       "      <td>36427.0</td>\n",
       "      <td>wikiart</td>\n",
       "      <td>Post-Impressionism</td>\n",
       "      <td>Novgorod. Kukui Tower.</td>\n",
       "      <td>train_and_test</td>\n",
       "      <td>True</td>\n",
       "      <td>41406.jpg</td>\n",
       "      <td>168750.0</td>\n",
       "    </tr>\n",
       "    <tr>\n",
       "      <th>101114</th>\n",
       "      <td>Pyotr Konchalovsky</td>\n",
       "      <td>1932</td>\n",
       "      <td>still life</td>\n",
       "      <td>450.0</td>\n",
       "      <td>375.0</td>\n",
       "      <td>51658.0</td>\n",
       "      <td>wikiart</td>\n",
       "      <td>Realism</td>\n",
       "      <td>Still Life with a fly. Every victuals.</td>\n",
       "      <td>train_and_test</td>\n",
       "      <td>True</td>\n",
       "      <td>13943.jpg</td>\n",
       "      <td>168750.0</td>\n",
       "    </tr>\n",
       "    <tr>\n",
       "      <th>101176</th>\n",
       "      <td>Pyotr Konchalovsky</td>\n",
       "      <td>1908</td>\n",
       "      <td>portrait</td>\n",
       "      <td>374.0</td>\n",
       "      <td>450.0</td>\n",
       "      <td>50917.0</td>\n",
       "      <td>wikiart</td>\n",
       "      <td>Post-Impressionism</td>\n",
       "      <td>Paris. The boy with the apple. (Portrait of Mi...</td>\n",
       "      <td>train_and_test</td>\n",
       "      <td>True</td>\n",
       "      <td>101511.jpg</td>\n",
       "      <td>168300.0</td>\n",
       "    </tr>\n",
       "    <tr>\n",
       "      <th>101178</th>\n",
       "      <td>Pyotr Konchalovsky</td>\n",
       "      <td>1954</td>\n",
       "      <td>landscape</td>\n",
       "      <td>450.0</td>\n",
       "      <td>374.0</td>\n",
       "      <td>74238.0</td>\n",
       "      <td>wikiart</td>\n",
       "      <td>Realism</td>\n",
       "      <td>Under the trees</td>\n",
       "      <td>train_and_test</td>\n",
       "      <td>True</td>\n",
       "      <td>37915.jpg</td>\n",
       "      <td>168300.0</td>\n",
       "    </tr>\n",
       "    <tr>\n",
       "      <th>101180</th>\n",
       "      <td>Pyotr Konchalovsky</td>\n",
       "      <td>1923</td>\n",
       "      <td>portrait</td>\n",
       "      <td>450.0</td>\n",
       "      <td>374.0</td>\n",
       "      <td>43756.0</td>\n",
       "      <td>wikiart</td>\n",
       "      <td>Realism</td>\n",
       "      <td>The night watchman with a dog (Ivan Payala)</td>\n",
       "      <td>train_and_test</td>\n",
       "      <td>True</td>\n",
       "      <td>48670.jpg</td>\n",
       "      <td>168300.0</td>\n",
       "    </tr>\n",
       "  </tbody>\n",
       "</table>\n",
       "<p>7778 rows × 13 columns</p>\n",
       "</div>"
      ],
      "text/plain": [
       "                    artist  date  ... new_filename      pixels\n",
       "14         Ivan Aivazovsky  1873  ...    99442.jpg  43257084.0\n",
       "28            Gustave Dore  1866  ...     7486.jpg  29824220.0\n",
       "29            Gustave Dore   NaN  ...    35766.jpg  29664630.0\n",
       "82         Ivan Aivazovsky  1850  ...    81750.jpg  22329600.0\n",
       "147            Edgar Degas  1869  ...    95360.jpg  18024318.0\n",
       "...                    ...   ...  ...          ...         ...\n",
       "101112  Pyotr Konchalovsky  1928  ...    41406.jpg    168750.0\n",
       "101114  Pyotr Konchalovsky  1932  ...    13943.jpg    168750.0\n",
       "101176  Pyotr Konchalovsky  1908  ...   101511.jpg    168300.0\n",
       "101178  Pyotr Konchalovsky  1954  ...    37915.jpg    168300.0\n",
       "101180  Pyotr Konchalovsky  1923  ...    48670.jpg    168300.0\n",
       "\n",
       "[7778 rows x 13 columns]"
      ]
     },
     "execution_count": 22,
     "metadata": {
      "tags": []
     },
     "output_type": "execute_result"
    }
   ],
   "source": [
    "artists=df['artist'].isin(artists.index) \n",
    "samples=df[artists]\n",
    "samples"
   ]
  },
  {
   "cell_type": "markdown",
   "metadata": {},
   "source": [
    "Reset index and shuffle rows to remove segregration by artist seen above:"
   ]
  },
  {
   "cell_type": "code",
   "execution_count": 23,
   "metadata": {
    "id": "C61B58Y7NtPj"
   },
   "outputs": [],
   "source": [
    "samples.reset_index(drop=True, inplace=True)\n",
    "from sklearn.utils import shuffle\n",
    "samples=shuffle(samples)    "
   ]
  },
  {
   "cell_type": "code",
   "execution_count": 24,
   "metadata": {
    "colab": {
     "base_uri": "https://localhost:8080/",
     "height": 419
    },
    "id": "rmjI9EczTRQI",
    "outputId": "4b155e82-6455-438c-8546-73dbafd57531"
   },
   "outputs": [
    {
     "data": {
      "text/html": [
       "<div>\n",
       "<style scoped>\n",
       "    .dataframe tbody tr th:only-of-type {\n",
       "        vertical-align: middle;\n",
       "    }\n",
       "\n",
       "    .dataframe tbody tr th {\n",
       "        vertical-align: top;\n",
       "    }\n",
       "\n",
       "    .dataframe thead th {\n",
       "        text-align: right;\n",
       "    }\n",
       "</style>\n",
       "<table border=\"1\" class=\"dataframe\">\n",
       "  <thead>\n",
       "    <tr style=\"text-align: right;\">\n",
       "      <th></th>\n",
       "      <th>artist</th>\n",
       "      <th>date</th>\n",
       "      <th>genre</th>\n",
       "      <th>pixelsx</th>\n",
       "      <th>pixelsy</th>\n",
       "      <th>size_bytes</th>\n",
       "      <th>source</th>\n",
       "      <th>style</th>\n",
       "      <th>title</th>\n",
       "      <th>artist_group</th>\n",
       "      <th>in_train</th>\n",
       "      <th>new_filename</th>\n",
       "      <th>pixels</th>\n",
       "    </tr>\n",
       "  </thead>\n",
       "  <tbody>\n",
       "    <tr>\n",
       "      <th>4785</th>\n",
       "      <td>Albrecht Durer</td>\n",
       "      <td>1499</td>\n",
       "      <td>religious painting</td>\n",
       "      <td>807.0</td>\n",
       "      <td>1044.0</td>\n",
       "      <td>138388.0</td>\n",
       "      <td>wikipedia</td>\n",
       "      <td>Northern Renaissance</td>\n",
       "      <td>Portrait of St Sebastian with an Arrow</td>\n",
       "      <td>train_and_test</td>\n",
       "      <td>True</td>\n",
       "      <td>48071.jpg</td>\n",
       "      <td>842508.0</td>\n",
       "    </tr>\n",
       "    <tr>\n",
       "      <th>297</th>\n",
       "      <td>Edgar Degas</td>\n",
       "      <td>1900</td>\n",
       "      <td>genre painting</td>\n",
       "      <td>2461.0</td>\n",
       "      <td>2800.0</td>\n",
       "      <td>1821780.0</td>\n",
       "      <td>wikiart</td>\n",
       "      <td>Impressionism</td>\n",
       "      <td>Ballet Dancers in the Wings</td>\n",
       "      <td>train_and_test</td>\n",
       "      <td>True</td>\n",
       "      <td>3266.jpg</td>\n",
       "      <td>6890800.0</td>\n",
       "    </tr>\n",
       "    <tr>\n",
       "      <th>1785</th>\n",
       "      <td>Gustave Dore</td>\n",
       "      <td>c.1868</td>\n",
       "      <td>illustration</td>\n",
       "      <td>1352.0</td>\n",
       "      <td>1724.0</td>\n",
       "      <td>708063.0</td>\n",
       "      <td>wikiart</td>\n",
       "      <td>Romanticism</td>\n",
       "      <td>The Enchantment of Don Quixote</td>\n",
       "      <td>train_and_test</td>\n",
       "      <td>True</td>\n",
       "      <td>90259.jpg</td>\n",
       "      <td>2330848.0</td>\n",
       "    </tr>\n",
       "    <tr>\n",
       "      <th>1107</th>\n",
       "      <td>Claude Monet</td>\n",
       "      <td>1872</td>\n",
       "      <td>landscape</td>\n",
       "      <td>2000.0</td>\n",
       "      <td>1643.0</td>\n",
       "      <td>214578.0</td>\n",
       "      <td>wikiart</td>\n",
       "      <td>Impressionism</td>\n",
       "      <td>Boats at rest, at Petit-Gennevilliers</td>\n",
       "      <td>train_and_test</td>\n",
       "      <td>True</td>\n",
       "      <td>42545.jpg</td>\n",
       "      <td>3286000.0</td>\n",
       "    </tr>\n",
       "    <tr>\n",
       "      <th>5312</th>\n",
       "      <td>Ilya Repin</td>\n",
       "      <td>1876.0</td>\n",
       "      <td>portrait</td>\n",
       "      <td>786.0</td>\n",
       "      <td>1000.0</td>\n",
       "      <td>120887.0</td>\n",
       "      <td>wikiart</td>\n",
       "      <td>Realism</td>\n",
       "      <td>Portrait of a military engineer, Captain A. Sh...</td>\n",
       "      <td>train_and_test</td>\n",
       "      <td>True</td>\n",
       "      <td>36397.jpg</td>\n",
       "      <td>786000.0</td>\n",
       "    </tr>\n",
       "    <tr>\n",
       "      <th>...</th>\n",
       "      <td>...</td>\n",
       "      <td>...</td>\n",
       "      <td>...</td>\n",
       "      <td>...</td>\n",
       "      <td>...</td>\n",
       "      <td>...</td>\n",
       "      <td>...</td>\n",
       "      <td>...</td>\n",
       "      <td>...</td>\n",
       "      <td>...</td>\n",
       "      <td>...</td>\n",
       "      <td>...</td>\n",
       "      <td>...</td>\n",
       "    </tr>\n",
       "    <tr>\n",
       "      <th>1592</th>\n",
       "      <td>Claude Monet</td>\n",
       "      <td>1904</td>\n",
       "      <td>flower painting</td>\n",
       "      <td>1657.0</td>\n",
       "      <td>1600.0</td>\n",
       "      <td>1020764.0</td>\n",
       "      <td>wikiart</td>\n",
       "      <td>Impressionism</td>\n",
       "      <td>Water Lilies</td>\n",
       "      <td>train_and_test</td>\n",
       "      <td>True</td>\n",
       "      <td>94581.jpg</td>\n",
       "      <td>2651200.0</td>\n",
       "    </tr>\n",
       "    <tr>\n",
       "      <th>5990</th>\n",
       "      <td>Boris Kustodiev</td>\n",
       "      <td>1914.0</td>\n",
       "      <td>portrait</td>\n",
       "      <td>711.0</td>\n",
       "      <td>1000.0</td>\n",
       "      <td>190975.0</td>\n",
       "      <td>wikiart</td>\n",
       "      <td>Realism</td>\n",
       "      <td>Portrait of G. Narbut</td>\n",
       "      <td>train_and_test</td>\n",
       "      <td>True</td>\n",
       "      <td>79463.jpg</td>\n",
       "      <td>711000.0</td>\n",
       "    </tr>\n",
       "    <tr>\n",
       "      <th>6189</th>\n",
       "      <td>Boris Kustodiev</td>\n",
       "      <td>1927.0</td>\n",
       "      <td>illustration</td>\n",
       "      <td>688.0</td>\n",
       "      <td>1000.0</td>\n",
       "      <td>185224.0</td>\n",
       "      <td>wikiart</td>\n",
       "      <td>Art Nouveau (Modern)</td>\n",
       "      <td>I picked strawberries</td>\n",
       "      <td>train_and_test</td>\n",
       "      <td>True</td>\n",
       "      <td>40662.jpg</td>\n",
       "      <td>688000.0</td>\n",
       "    </tr>\n",
       "    <tr>\n",
       "      <th>4025</th>\n",
       "      <td>Pablo Picasso</td>\n",
       "      <td>1947</td>\n",
       "      <td>still life</td>\n",
       "      <td>870.0</td>\n",
       "      <td>1088.0</td>\n",
       "      <td>578190.0</td>\n",
       "      <td>wikiart</td>\n",
       "      <td>Surrealism</td>\n",
       "      <td>Still life on a table</td>\n",
       "      <td>train_and_test</td>\n",
       "      <td>True</td>\n",
       "      <td>42994.jpg</td>\n",
       "      <td>946560.0</td>\n",
       "    </tr>\n",
       "    <tr>\n",
       "      <th>4770</th>\n",
       "      <td>Camille Pissarro</td>\n",
       "      <td>NaN</td>\n",
       "      <td>genre painting</td>\n",
       "      <td>1055.0</td>\n",
       "      <td>800.0</td>\n",
       "      <td>407608.0</td>\n",
       "      <td>wikiart</td>\n",
       "      <td>Impressionism</td>\n",
       "      <td>Rouen burial of Cardinal Bonnechose</td>\n",
       "      <td>train_and_test</td>\n",
       "      <td>True</td>\n",
       "      <td>59314.jpg</td>\n",
       "      <td>844000.0</td>\n",
       "    </tr>\n",
       "  </tbody>\n",
       "</table>\n",
       "<p>7778 rows × 13 columns</p>\n",
       "</div>"
      ],
      "text/plain": [
       "                artist    date  ... new_filename     pixels\n",
       "4785    Albrecht Durer    1499  ...    48071.jpg   842508.0\n",
       "297        Edgar Degas    1900  ...     3266.jpg  6890800.0\n",
       "1785      Gustave Dore  c.1868  ...    90259.jpg  2330848.0\n",
       "1107      Claude Monet    1872  ...    42545.jpg  3286000.0\n",
       "5312        Ilya Repin  1876.0  ...    36397.jpg   786000.0\n",
       "...                ...     ...  ...          ...        ...\n",
       "1592      Claude Monet    1904  ...    94581.jpg  2651200.0\n",
       "5990   Boris Kustodiev  1914.0  ...    79463.jpg   711000.0\n",
       "6189   Boris Kustodiev  1927.0  ...    40662.jpg   688000.0\n",
       "4025     Pablo Picasso    1947  ...    42994.jpg   946560.0\n",
       "4770  Camille Pissarro     NaN  ...    59314.jpg   844000.0\n",
       "\n",
       "[7778 rows x 13 columns]"
      ]
     },
     "execution_count": 24,
     "metadata": {
      "tags": []
     },
     "output_type": "execute_result"
    }
   ],
   "source": [
    "samples"
   ]
  },
  {
   "cell_type": "code",
   "execution_count": 165,
   "metadata": {
    "id": "nNYl-8-zXMhN"
   },
   "outputs": [],
   "source": [
    "!cp train/35766.jpg dore.jpg\n",
    "#!cp test/85670.jpg pira3.jpg"
   ]
  },
  {
   "cell_type": "markdown",
   "metadata": {},
   "source": [
    "### Model Fitting"
   ]
  },
  {
   "cell_type": "code",
   "execution_count": 1,
   "metadata": {
    "id": "IxntmUH9PeKp"
   },
   "outputs": [],
   "source": [
    "from tensorflow.keras.models import Sequential\n",
    "from tensorflow.keras.layers import Conv2D\n",
    "from tensorflow.keras.layers import MaxPooling2D\n",
    "from tensorflow.keras.layers import GlobalAveragePooling2D\n",
    "from tensorflow.keras.layers import AveragePooling2D\n",
    "from tensorflow.keras.layers import Flatten\n",
    "from tensorflow.keras.layers import Dense\n",
    "from tensorflow.keras.layers import Dropout\n",
    "from tensorflow.keras.preprocessing import image #import load_img\n",
    "from tensorflow.keras.preprocessing.image import ImageDataGenerator\n",
    "from PIL import ImageFile\n",
    "ImageFile.LOAD_TRUNCATED_IMAGES = True\n",
    "from PIL import Image\n",
    "Image.MAX_IMAGE_PIXELS = None"
   ]
  },
  {
   "cell_type": "code",
   "execution_count": 29,
   "metadata": {
    "colab": {
     "base_uri": "https://localhost:8080/"
    },
    "id": "H36NlmuGPgwk",
    "outputId": "a17efa8b-b1c6-454f-d18f-c1ee8f86677a"
   },
   "outputs": [
    {
     "name": "stdout",
     "output_type": "stream",
     "text": [
      "Found 6222 validated image filenames belonging to 20 classes.\n",
      "Found 1556 validated image filenames belonging to 20 classes.\n"
     ]
    }
   ],
   "source": [
    "trainpath = 'train'\n",
    "\n",
    "train_limit=int(len(samples)*0.8)\n",
    "\n",
    "valid_gen=ImageDataGenerator(rescale=1./255.)\n",
    "\n",
    "train_gen=ImageDataGenerator(rescale=1./255.,rotation_range = 30,\n",
    "                                   zoom_range=0.2,\n",
    "                                   horizontal_flip=True)\n",
    "\n",
    "height=320       #Increased size from style classification, larger size means more information (multiples of 32)\n",
    "width=320\n",
    "\n",
    "valid_datagen=ImageDataGenerator(rescale=1./255)\n",
    "\n",
    "train_generator=train_gen.flow_from_dataframe(\n",
    "dataframe=samples[:train_limit],\n",
    "directory=trainpath,\n",
    "x_col=\"new_filename\",\n",
    "y_col=\"artist\",\n",
    "color_mode='rgb',\n",
    "batch_size=32,\n",
    "seed=42,\n",
    "shuffle=False,\n",
    "class_mode=\"categorical\",\n",
    "target_size=(height,width))\n",
    "\n",
    "validation_generator=valid_gen.flow_from_dataframe(\n",
    "dataframe=samples[train_limit:],\n",
    "directory=trainpath,\n",
    "x_col=\"new_filename\",\n",
    "y_col=\"artist\",\n",
    "\n",
    "color_mode='rgb',\n",
    "batch_size=32,\n",
    "seed=42,\n",
    "shuffle=False,\n",
    "class_mode=\"categorical\",\n",
    "target_size=(height,width))"
   ]
  },
  {
   "cell_type": "markdown",
   "metadata": {
    "id": "-XeZAhDYCdOX"
   },
   "source": [
    "#### VGG19\n",
    "Try VGG19, which works well for image transfer, with final pooling layers :"
   ]
  },
  {
   "cell_type": "code",
   "execution_count": 28,
   "metadata": {
    "colab": {
     "base_uri": "https://localhost:8080/"
    },
    "id": "k3t8R1EX8wZT",
    "outputId": "f22b5dd0-30db-4ed2-e63a-45abede8f907"
   },
   "outputs": [
    {
     "name": "stdout",
     "output_type": "stream",
     "text": [
      "Downloading data from https://storage.googleapis.com/tensorflow/keras-applications/vgg19/vgg19_weights_tf_dim_ordering_tf_kernels_notop.h5\n",
      "80142336/80134624 [==============================] - 1s 0us/step\n",
      "Epoch 1/25\n",
      "195/195 [==============================] - 462s 2s/step - loss: 2.9406 - accuracy: 0.1136 - val_loss: 2.5841 - val_accuracy: 0.2796\n",
      "Epoch 2/25\n",
      "195/195 [==============================] - 404s 2s/step - loss: 2.5284 - accuracy: 0.3028 - val_loss: 2.3597 - val_accuracy: 0.3355\n",
      "Epoch 3/25\n",
      "195/195 [==============================] - 399s 2s/step - loss: 2.3159 - accuracy: 0.3568 - val_loss: 2.2201 - val_accuracy: 0.3612\n",
      "Epoch 4/25\n",
      "195/195 [==============================] - 398s 2s/step - loss: 2.2073 - accuracy: 0.3676 - val_loss: 2.1267 - val_accuracy: 0.3830\n",
      "Epoch 5/25\n",
      "195/195 [==============================] - 397s 2s/step - loss: 2.1048 - accuracy: 0.3978 - val_loss: 2.0619 - val_accuracy: 0.3901\n",
      "Epoch 6/25\n",
      "195/195 [==============================] - 397s 2s/step - loss: 2.0322 - accuracy: 0.4157 - val_loss: 1.9888 - val_accuracy: 0.4319\n",
      "Epoch 7/25\n",
      "195/195 [==============================] - 400s 2s/step - loss: 1.9605 - accuracy: 0.4319 - val_loss: 1.9542 - val_accuracy: 0.4203\n",
      "Epoch 8/25\n",
      "195/195 [==============================] - 400s 2s/step - loss: 1.9351 - accuracy: 0.4354 - val_loss: 1.9104 - val_accuracy: 0.4319\n",
      "Epoch 9/25\n",
      "195/195 [==============================] - 417s 2s/step - loss: 1.8980 - accuracy: 0.4462 - val_loss: 1.8778 - val_accuracy: 0.4332\n",
      "Epoch 10/25\n",
      "195/195 [==============================] - 406s 2s/step - loss: 1.8563 - accuracy: 0.4633 - val_loss: 1.8462 - val_accuracy: 0.4467\n",
      "Epoch 11/25\n",
      "195/195 [==============================] - 401s 2s/step - loss: 1.8218 - accuracy: 0.4667 - val_loss: 1.8163 - val_accuracy: 0.4627\n",
      "Epoch 12/25\n",
      "195/195 [==============================] - 400s 2s/step - loss: 1.7909 - accuracy: 0.4690 - val_loss: 1.7970 - val_accuracy: 0.4557\n",
      "Epoch 13/25\n",
      "195/195 [==============================] - 398s 2s/step - loss: 1.7681 - accuracy: 0.4838 - val_loss: 1.7768 - val_accuracy: 0.4672\n",
      "Epoch 14/25\n",
      "195/195 [==============================] - 400s 2s/step - loss: 1.7456 - accuracy: 0.5003 - val_loss: 1.7556 - val_accuracy: 0.4692\n",
      "Epoch 15/25\n",
      "195/195 [==============================] - 399s 2s/step - loss: 1.7205 - accuracy: 0.5051 - val_loss: 1.7315 - val_accuracy: 0.4891\n",
      "Epoch 16/25\n",
      "195/195 [==============================] - 406s 2s/step - loss: 1.7363 - accuracy: 0.5018 - val_loss: 1.7201 - val_accuracy: 0.4666\n",
      "Epoch 17/25\n",
      "195/195 [==============================] - 401s 2s/step - loss: 1.6908 - accuracy: 0.5207 - val_loss: 1.7029 - val_accuracy: 0.4826\n",
      "Epoch 18/25\n",
      "195/195 [==============================] - 398s 2s/step - loss: 1.6829 - accuracy: 0.5075 - val_loss: 1.7017 - val_accuracy: 0.4839\n",
      "Epoch 19/25\n",
      "195/195 [==============================] - 398s 2s/step - loss: 1.6470 - accuracy: 0.5306 - val_loss: 1.6837 - val_accuracy: 0.4981\n",
      "Epoch 20/25\n",
      "195/195 [==============================] - 405s 2s/step - loss: 1.6367 - accuracy: 0.5153 - val_loss: 1.6607 - val_accuracy: 0.4936\n",
      "Epoch 21/25\n",
      "195/195 [==============================] - 405s 2s/step - loss: 1.6664 - accuracy: 0.5189 - val_loss: 1.6553 - val_accuracy: 0.4904\n",
      "Epoch 22/25\n",
      "195/195 [==============================] - 399s 2s/step - loss: 1.6137 - accuracy: 0.5296 - val_loss: 1.6328 - val_accuracy: 0.5129\n",
      "Epoch 23/25\n",
      "195/195 [==============================] - 398s 2s/step - loss: 1.6134 - accuracy: 0.5375 - val_loss: 1.6190 - val_accuracy: 0.5103\n",
      "Epoch 24/25\n",
      "195/195 [==============================] - 399s 2s/step - loss: 1.5854 - accuracy: 0.5411 - val_loss: 1.6135 - val_accuracy: 0.5122\n",
      "Epoch 25/25\n",
      "195/195 [==============================] - 399s 2s/step - loss: 1.5689 - accuracy: 0.5415 - val_loss: 1.6175 - val_accuracy: 0.5103\n"
     ]
    },
    {
     "data": {
      "text/plain": [
       "<tensorflow.python.keras.callbacks.History at 0x7f037de2ad10>"
      ]
     },
     "execution_count": 28,
     "metadata": {
      "tags": []
     },
     "output_type": "execute_result"
    }
   ],
   "source": [
    "from tensorflow.keras.models import Model\n",
    "from tensorflow.keras.applications import ResNet50V2\n",
    "from tensorflow.keras.applications import VGG19\n",
    "from tensorflow.keras.callbacks import EarlyStopping\n",
    "from tensorflow.keras.regularizers import L2\n",
    "\n",
    "model4 = VGG19(weights='imagenet',\n",
    "                   include_top=False,\n",
    "                   input_shape=(height,width,3))\n",
    "\n",
    "for layer in model4.layers:\n",
    "    layer.trainable = False\n",
    "\n",
    "\n",
    "\n",
    "    # Add our own layers to the end of the network\n",
    "x = model4.output \n",
    "x=AveragePooling2D()(x)\n",
    "x=GlobalAveragePooling2D()(x)\n",
    "\n",
    "output = Dense(num_classes, activation='softmax')(x)\n",
    "\n",
    "model4 = Model(inputs=model4.input, \n",
    "              outputs=output)\n",
    "\n",
    "early_stop = EarlyStopping(monitor='val_loss', \n",
    "                           patience=2, \n",
    "                           mode='min', \n",
    "                           verbose=1)\n",
    "\n",
    "model4.compile(optimizer='Adam',\n",
    "              loss='categorical_crossentropy',\n",
    "              metrics=['accuracy'])\n",
    "\n",
    "\n",
    "model4.fit(train_generator,\n",
    "          epochs=25,\n",
    "          callbacks=[early_stop],\n",
    "          validation_data=validation_generator)"
   ]
  },
  {
   "cell_type": "markdown",
   "metadata": {},
   "source": [
    "Continueing fitting:"
   ]
  },
  {
   "cell_type": "code",
   "execution_count": 29,
   "metadata": {
    "colab": {
     "base_uri": "https://localhost:8080/"
    },
    "id": "zOqKcwMq4ciP",
    "outputId": "f6931518-3d67-43a9-de3e-2c09d96f7a4b"
   },
   "outputs": [
    {
     "name": "stdout",
     "output_type": "stream",
     "text": [
      "Epoch 1/15\n",
      "195/195 [==============================] - 399s 2s/step - loss: 1.5719 - accuracy: 0.5477 - val_loss: 1.5962 - val_accuracy: 0.5244\n",
      "Epoch 2/15\n",
      "195/195 [==============================] - 399s 2s/step - loss: 1.5581 - accuracy: 0.5514 - val_loss: 1.5892 - val_accuracy: 0.5244\n",
      "Epoch 3/15\n",
      "195/195 [==============================] - 398s 2s/step - loss: 1.5441 - accuracy: 0.5489 - val_loss: 1.5828 - val_accuracy: 0.5257\n",
      "Epoch 4/15\n",
      "195/195 [==============================] - 401s 2s/step - loss: 1.5460 - accuracy: 0.5440 - val_loss: 1.5711 - val_accuracy: 0.5238\n",
      "Epoch 5/15\n",
      "195/195 [==============================] - 404s 2s/step - loss: 1.5283 - accuracy: 0.5485 - val_loss: 1.5703 - val_accuracy: 0.5238\n",
      "Epoch 6/15\n",
      "195/195 [==============================] - 410s 2s/step - loss: 1.5287 - accuracy: 0.5530 - val_loss: 1.5652 - val_accuracy: 0.5276\n",
      "Epoch 7/15\n",
      "195/195 [==============================] - 416s 2s/step - loss: 1.5225 - accuracy: 0.5553 - val_loss: 1.5490 - val_accuracy: 0.5263\n",
      "Epoch 8/15\n",
      "195/195 [==============================] - 412s 2s/step - loss: 1.5072 - accuracy: 0.5617 - val_loss: 1.5454 - val_accuracy: 0.5289\n",
      "Epoch 9/15\n",
      "195/195 [==============================] - 418s 2s/step - loss: 1.5008 - accuracy: 0.5611 - val_loss: 1.5363 - val_accuracy: 0.5251\n",
      "Epoch 10/15\n",
      "195/195 [==============================] - 418s 2s/step - loss: 1.4950 - accuracy: 0.5643 - val_loss: 1.5367 - val_accuracy: 0.5289\n",
      "Epoch 11/15\n",
      "195/195 [==============================] - 413s 2s/step - loss: 1.4814 - accuracy: 0.5686 - val_loss: 1.5332 - val_accuracy: 0.5347\n",
      "Epoch 12/15\n",
      "195/195 [==============================] - 410s 2s/step - loss: 1.4819 - accuracy: 0.5696 - val_loss: 1.5312 - val_accuracy: 0.5341\n",
      "Epoch 13/15\n",
      "195/195 [==============================] - 407s 2s/step - loss: 1.4714 - accuracy: 0.5644 - val_loss: 1.5361 - val_accuracy: 0.5257\n",
      "Epoch 14/15\n",
      "195/195 [==============================] - 403s 2s/step - loss: 1.4652 - accuracy: 0.5760 - val_loss: 1.5173 - val_accuracy: 0.5328\n",
      "Epoch 15/15\n",
      "195/195 [==============================] - 396s 2s/step - loss: 1.4520 - accuracy: 0.5746 - val_loss: 1.5013 - val_accuracy: 0.5456\n"
     ]
    },
    {
     "data": {
      "text/plain": [
       "<tensorflow.python.keras.callbacks.History at 0x7f03182701d0>"
      ]
     },
     "execution_count": 29,
     "metadata": {
      "tags": []
     },
     "output_type": "execute_result"
    }
   ],
   "source": [
    "model4.fit(train_generator,\n",
    "          epochs=15,\n",
    "          callbacks=[early_stop],\n",
    "          validation_data=validation_generator)"
   ]
  },
  {
   "cell_type": "code",
   "execution_count": 30,
   "metadata": {
    "colab": {
     "base_uri": "https://localhost:8080/"
    },
    "id": "NQaNASfWBpEe",
    "outputId": "2a6fc044-e29e-4616-f517-ee3334c54c00"
   },
   "outputs": [
    {
     "name": "stdout",
     "output_type": "stream",
     "text": [
      "INFO:tensorflow:Assets written to: Res_Artist_best/assets\n"
     ]
    }
   ],
   "source": [
    "!mkdir Res_Artist_best\n",
    "model4.save('Res_Artist_best')"
   ]
  },
  {
   "cell_type": "code",
   "execution_count": 32,
   "metadata": {
    "id": "zt37YRQaDVpv"
   },
   "outputs": [],
   "source": [
    "!cp -r Res_Artist_best drive/MyDrive/"
   ]
  },
  {
   "cell_type": "code",
   "execution_count": 33,
   "metadata": {
    "colab": {
     "base_uri": "https://localhost:8080/"
    },
    "id": "QZ0dyAl2FKEu",
    "outputId": "707461e2-f094-4dbc-f743-9a0972210060"
   },
   "outputs": [
    {
     "name": "stdout",
     "output_type": "stream",
     "text": [
      "Epoch 1/15\n",
      "195/195 [==============================] - 414s 2s/step - loss: 1.4508 - accuracy: 0.5755 - val_loss: 1.5020 - val_accuracy: 0.5398\n",
      "Epoch 2/15\n",
      "195/195 [==============================] - 412s 2s/step - loss: 1.4380 - accuracy: 0.5796 - val_loss: 1.4974 - val_accuracy: 0.5476\n",
      "Epoch 3/15\n",
      "195/195 [==============================] - 424s 2s/step - loss: 1.4397 - accuracy: 0.5751 - val_loss: 1.5091 - val_accuracy: 0.5347\n",
      "Epoch 4/15\n",
      "195/195 [==============================] - 431s 2s/step - loss: 1.4357 - accuracy: 0.5813 - val_loss: 1.4873 - val_accuracy: 0.5418\n",
      "Epoch 5/15\n",
      "195/195 [==============================] - 429s 2s/step - loss: 1.4342 - accuracy: 0.5834 - val_loss: 1.4774 - val_accuracy: 0.5476\n",
      "Epoch 6/15\n",
      "195/195 [==============================] - 426s 2s/step - loss: 1.4154 - accuracy: 0.5868 - val_loss: 1.4917 - val_accuracy: 0.5366\n",
      "Epoch 7/15\n",
      "195/195 [==============================] - 430s 2s/step - loss: 1.4121 - accuracy: 0.5841 - val_loss: 1.4811 - val_accuracy: 0.5476\n",
      "Epoch 00007: early stopping\n"
     ]
    },
    {
     "data": {
      "text/plain": [
       "<tensorflow.python.keras.callbacks.History at 0x7f03105b2c90>"
      ]
     },
     "execution_count": 33,
     "metadata": {
      "tags": []
     },
     "output_type": "execute_result"
    }
   ],
   "source": [
    "model4.fit(train_generator,\n",
    "          epochs=15,\n",
    "          callbacks=[early_stop],\n",
    "          validation_data=validation_generator)"
   ]
  },
  {
   "cell_type": "markdown",
   "metadata": {},
   "source": [
    "Tops out at about 55% validation accuracy, much higher than for style classification.\n",
    "\n",
    "Initialize test image set generator:"
   ]
  },
  {
   "cell_type": "code",
   "execution_count": 49,
   "metadata": {
    "colab": {
     "base_uri": "https://localhost:8080/"
    },
    "id": "IQHgmWrVQ8p6",
    "outputId": "6919a2f2-4888-471b-c51f-387cbf6c1342"
   },
   "outputs": [
    {
     "name": "stdout",
     "output_type": "stream",
     "text": [
      "Found 2167 validated image filenames belonging to 20 classes.\n"
     ]
    }
   ],
   "source": [
    "testpath = 'test'\n",
    "\n",
    "test_gen=ImageDataGenerator(rescale=1./255.)\n",
    "\n",
    "height=320\n",
    "width=320\n",
    "\n",
    "test_generator=test_gen.flow_from_dataframe(\n",
    "dataframe=dftest,\n",
    "directory=testpath,\n",
    "x_col=\"new_filename\",\n",
    "y_col=\"artist\",\n",
    "#subset=\"training\",\n",
    "color_mode='rgb',\n",
    "batch_size=100,\n",
    "seed=42,\n",
    "shuffle=False,\n",
    "class_mode=\"categorical\",\n",
    "target_size=(height,width))\n"
   ]
  },
  {
   "cell_type": "code",
   "execution_count": 42,
   "metadata": {
    "colab": {
     "base_uri": "https://localhost:8080/"
    },
    "id": "D3h-0ULkSNcO",
    "outputId": "47831b51-f347-4c2f-ed2f-15d56e75032f"
   },
   "outputs": [
    {
     "name": "stdout",
     "output_type": "stream",
     "text": [
      "22/22 [==============================] - 92s 3s/step - loss: 1.4713 - accuracy: 0.5639\n"
     ]
    },
    {
     "data": {
      "text/plain": [
       "[1.4712553024291992, 0.5639132261276245]"
      ]
     },
     "execution_count": 42,
     "metadata": {
      "tags": []
     },
     "output_type": "execute_result"
    }
   ],
   "source": [
    "model4.evaluate(test_generator)    #evaluate test set accuracy"
   ]
  },
  {
   "cell_type": "markdown",
   "metadata": {},
   "source": [
    "As can be seen, test set accuracy is even slightly higher at about 56%. Next, trying top-3 accuracy for test set:"
   ]
  },
  {
   "cell_type": "code",
   "execution_count": 43,
   "metadata": {
    "colab": {
     "base_uri": "https://localhost:8080/"
    },
    "id": "JN2vKZTcS4tR",
    "outputId": "31407083-abae-4dfc-f2f5-08c3c2b45393"
   },
   "outputs": [
    {
     "name": "stdout",
     "output_type": "stream",
     "text": [
      "22/22 [==============================] - 72s 3s/step - loss: 1.4916 - top_k_categorical_accuracy: 0.7856\n"
     ]
    },
    {
     "data": {
      "text/plain": [
       "[1.4712553024291992, 0.7868020534515381]"
      ]
     },
     "execution_count": 43,
     "metadata": {
      "tags": []
     },
     "output_type": "execute_result"
    }
   ],
   "source": [
    "from tensorflow.keras.metrics import TopKCategoricalAccuracy\n",
    "\n",
    "topkmodel= Model(inputs=model4.input, \n",
    "              outputs=model4.output)\n",
    "\n",
    "metric = TopKCategoricalAccuracy(k=3)\n",
    "topkmodel.compile(optimizer='Adam',\n",
    "              loss='categorical_crossentropy',\n",
    "              metrics=metric)\n",
    "\n",
    "topkmodel.evaluate(test_generator)"
   ]
  },
  {
   "cell_type": "markdown",
   "metadata": {},
   "source": [
    "The accuracy is about 78.5%, a respectable figure and meaning the model is providing the correct prediction amongst its top 3 guesses most of the time. "
   ]
  },
  {
   "cell_type": "code",
   "execution_count": null,
   "metadata": {
    "colab": {
     "base_uri": "https://localhost:8080/"
    },
    "id": "mnJjw6zmpFqK",
    "outputId": "da98edc3-a872-4ed3-e0b5-f195ceeb7a75"
   },
   "outputs": [
    {
     "name": "stdout",
     "output_type": "stream",
     "text": [
      "Epoch 1/6\n",
      "183/183 [==============================] - 320s 2s/step - loss: 1.7936 - accuracy: 0.4727 - val_loss: 1.7535 - val_accuracy: 0.4823\n",
      "Epoch 2/6\n",
      "183/183 [==============================] - 318s 2s/step - loss: 1.7735 - accuracy: 0.4812 - val_loss: 1.7325 - val_accuracy: 0.4812\n",
      "Epoch 3/6\n",
      "183/183 [==============================] - 318s 2s/step - loss: 1.7604 - accuracy: 0.4773 - val_loss: 1.7026 - val_accuracy: 0.4920\n",
      "Epoch 4/6\n",
      "183/183 [==============================] - 318s 2s/step - loss: 1.7351 - accuracy: 0.4905 - val_loss: 1.6950 - val_accuracy: 0.4925\n",
      "Epoch 5/6\n",
      "183/183 [==============================] - 314s 2s/step - loss: 1.7237 - accuracy: 0.4941 - val_loss: 1.6718 - val_accuracy: 0.5033\n",
      "Epoch 6/6\n",
      "183/183 [==============================] - 316s 2s/step - loss: 1.7004 - accuracy: 0.4984 - val_loss: 1.6663 - val_accuracy: 0.5039\n"
     ]
    },
    {
     "data": {
      "text/plain": [
       "<tensorflow.python.keras.callbacks.History at 0x7f33d2395690>"
      ]
     },
     "execution_count": 37,
     "metadata": {
      "tags": []
     },
     "output_type": "execute_result"
    }
   ],
   "source": [
    "model4.fit(train_generator,\n",
    "          epochs=6,\n",
    "          callbacks=[early_stop],\n",
    "          validation_data=validation_generator)"
   ]
  },
  {
   "cell_type": "code",
   "execution_count": null,
   "metadata": {
    "colab": {
     "base_uri": "https://localhost:8080/"
    },
    "id": "kxCPtw-Myd_J",
    "outputId": "71096570-6c1e-4fec-ccb6-f5807793cea3"
   },
   "outputs": [
    {
     "name": "stdout",
     "output_type": "stream",
     "text": [
      "INFO:tensorflow:Assets written to: Res_Best_red/assets\n"
     ]
    }
   ],
   "source": [
    "!mkdir Res_Best_red\n",
    "model4.save('Res_Best_red')"
   ]
  },
  {
   "cell_type": "code",
   "execution_count": null,
   "metadata": {
    "colab": {
     "base_uri": "https://localhost:8080/"
    },
    "id": "oXwW58UGvw1A",
    "outputId": "24a309f8-0966-4b02-e3fb-6e69312d94d2"
   },
   "outputs": [
    {
     "name": "stdout",
     "output_type": "stream",
     "text": [
      "Epoch 1/6\n",
      "183/183 [==============================] - 326s 2s/step - loss: 1.6876 - accuracy: 0.5033 - val_loss: 1.6612 - val_accuracy: 0.5116\n",
      "Epoch 2/6\n",
      "183/183 [==============================] - 326s 2s/step - loss: 1.6789 - accuracy: 0.5044 - val_loss: 1.6621 - val_accuracy: 0.5028\n",
      "Epoch 3/6\n",
      "183/183 [==============================] - 329s 2s/step - loss: 1.6606 - accuracy: 0.5051 - val_loss: 1.6622 - val_accuracy: 0.5018\n",
      "Epoch 00003: early stopping\n"
     ]
    },
    {
     "data": {
      "text/plain": [
       "<tensorflow.python.keras.callbacks.History at 0x7f34376a9390>"
      ]
     },
     "execution_count": 38,
     "metadata": {
      "tags": []
     },
     "output_type": "execute_result"
    }
   ],
   "source": [
    "from tensorflow.keras import layers\n",
    "\n",
    "#for layer in model3.layers:\n",
    " #   layer.trainable = False\n",
    "\n",
    "for layer in model4.layers[-15:]:\n",
    "        if not isinstance(layer, layers.BatchNormalization):\n",
    "            layer.trainable = True\n",
    "model4.fit(train_generator,\n",
    "          epochs=6,\n",
    "          callbacks=[early_stop],\n",
    "          validation_data=validation_generator)"
   ]
  },
  {
   "cell_type": "code",
   "execution_count": null,
   "metadata": {
    "colab": {
     "base_uri": "https://localhost:8080/"
    },
    "id": "6ODf9AnLxb-c",
    "outputId": "51e99ec7-fa26-42cf-a637-7f15140ea16f"
   },
   "outputs": [
    {
     "name": "stdout",
     "output_type": "stream",
     "text": [
      "INFO:tensorflow:Assets written to: Res_Artist/assets\n"
     ]
    }
   ],
   "source": [
    "!mkdir Res_Artist\n",
    "model4.save('Res_Artist')"
   ]
  },
  {
   "cell_type": "code",
   "execution_count": null,
   "metadata": {
    "id": "IN_ZSA84YFZ0"
   },
   "outputs": [],
   "source": [
    "!cp -r Res_Artist_ratio_reduced/ drive/MyDrive/"
   ]
  },
  {
   "cell_type": "code",
   "execution_count": 167,
   "metadata": {
    "id": "Xa9n-Bwl2J3M"
   },
   "outputs": [],
   "source": [
    "im2=image.img_to_array(im2)\n",
    "testim=im2[np.newaxis,:,:]"
   ]
  },
  {
   "cell_type": "code",
   "execution_count": null,
   "metadata": {
    "colab": {
     "base_uri": "https://localhost:8080/",
     "height": 669
    },
    "id": "nAjsX398TE2P",
    "outputId": "012d86a9-341b-402e-d4ad-62ea0ffc7bfc"
   },
   "outputs": [],
   "source": [
    "predict = model5.predict(testim)\n",
    "gueses=pd.DataFrame(predict.T, index=train_generator.class_indices, columns=['Prediction'])\n",
    "#gueses #.shape\n",
    "gueses.sort_values(by='Prediction', ascending=False)"
   ]
  },
  {
   "cell_type": "code",
   "execution_count": 66,
   "metadata": {
    "id": "fkCUVHCLXHNB"
   },
   "outputs": [],
   "source": [
    "x, y=train_generator.next()"
   ]
  },
  {
   "cell_type": "code",
   "execution_count": null,
   "metadata": {
    "id": "X8dgahG0yqnF"
   },
   "outputs": [],
   "source": [
    "#Unfreeze 15 last layers (conv5_block3) on Res_Best\n",
    "from tensorflow.keras import layers\n",
    "\n",
    "for layer in model4.layers:\n",
    "    layer.trainable = False\n",
    "\n",
    "for layer in model4.layers[-50:]:             \n",
    "        if not isinstance(layer, layers.BatchNormalization):\n",
    "            layer.trainable = True\n",
    "#model4.fit(train_generator,\n",
    "#          epochs=6,\n",
    " #         callbacks=[early_stop],\n",
    " #         validation_data=validation_generator)"
   ]
  },
  {
   "cell_type": "code",
   "execution_count": null,
   "metadata": {
    "colab": {
     "base_uri": "https://localhost:8080/"
    },
    "id": "moDqDf_KGJSh",
    "outputId": "13c0d56e-c325-436d-a3ae-d7b2cf000a85"
   },
   "outputs": [
    {
     "name": "stdout",
     "output_type": "stream",
     "text": [
      "Epoch 1/6\n",
      "254/254 [==============================] - 365s 1s/step - loss: 1.3092 - accuracy: 0.5728 - val_loss: 2.0255 - val_accuracy: 0.4204\n",
      "Epoch 2/6\n",
      "254/254 [==============================] - 364s 1s/step - loss: 1.3105 - accuracy: 0.5737 - val_loss: 2.1179 - val_accuracy: 0.4111\n",
      "Epoch 3/6\n",
      "254/254 [==============================] - 365s 1s/step - loss: 1.2795 - accuracy: 0.5807 - val_loss: 2.1006 - val_accuracy: 0.4144\n",
      "Epoch 00003: early stopping\n"
     ]
    },
    {
     "data": {
      "text/plain": [
       "<tensorflow.python.keras.callbacks.History at 0x7f8fa6c7e110>"
      ]
     },
     "execution_count": 41,
     "metadata": {
      "tags": []
     },
     "output_type": "execute_result"
    }
   ],
   "source": [
    "model4.fit(train_generator,\n",
    "          epochs=6,\n",
    "          callbacks=[early_stop],\n",
    "          validation_data=validation_generator)"
   ]
  },
  {
   "cell_type": "code",
   "execution_count": null,
   "metadata": {
    "id": "AFzpQeQ5_Qhv"
   },
   "outputs": [],
   "source": [
    "from tensorflow.keras.metrics import TopKCategoricalAccuracy\n",
    "\n",
    "testmodel= Model(inputs=model4.input, \n",
    "              outputs=model4.output)\n",
    "\n",
    "metric = TopKCategoricalAccuracy(k=3)\n",
    "testmodel.compile(optimizer='Adam',\n",
    "              loss='categorical_crossentropy',\n",
    "              metrics=metric)"
   ]
  },
  {
   "cell_type": "code",
   "execution_count": null,
   "metadata": {
    "colab": {
     "base_uri": "https://localhost:8080/"
    },
    "id": "2ragVhQfCwh4",
    "outputId": "4b2c4d2e-c4d9-4078-fabe-939ef90df177"
   },
   "outputs": [
    {
     "name": "stdout",
     "output_type": "stream",
     "text": [
      "61/61 [==============================] - 64s 1s/step - loss: 1.6886 - top_k_categorical_accuracy: 0.7484\n"
     ]
    },
    {
     "data": {
      "text/plain": [
       "[1.6622363328933716, 0.7506426572799683]"
      ]
     },
     "execution_count": 41,
     "metadata": {
      "tags": []
     },
     "output_type": "execute_result"
    }
   ],
   "source": [
    "testmodel.evaluate(validation_generator)"
   ]
  },
  {
   "cell_type": "markdown",
   "metadata": {},
   "source": [
    "Decreasing learning rate to see if more fine tuning is possible, first from default 0.001 to 0.0001 (no noticeable difference) and then 0.00001: "
   ]
  },
  {
   "cell_type": "code",
   "execution_count": 125,
   "metadata": {
    "colab": {
     "base_uri": "https://localhost:8080/"
    },
    "id": "0sULwUgJfpdT",
    "outputId": "7b04b885-55b5-45b2-a0c6-fc9e159038f8"
   },
   "outputs": [
    {
     "name": "stdout",
     "output_type": "stream",
     "text": [
      "Epoch 1/5\n",
      "195/195 [==============================] - 386s 2s/step - loss: 1.3709 - accuracy: 0.5911 - val_loss: 1.4502 - val_accuracy: 0.5617\n",
      "Epoch 2/5\n",
      "195/195 [==============================] - 378s 2s/step - loss: 1.3798 - accuracy: 0.5817 - val_loss: 1.4513 - val_accuracy: 0.5553\n",
      "Epoch 3/5\n",
      "195/195 [==============================] - 375s 2s/step - loss: 1.3675 - accuracy: 0.5955 - val_loss: 1.4698 - val_accuracy: 0.5476\n",
      "Epoch 00003: early stopping\n"
     ]
    },
    {
     "data": {
      "text/plain": [
       "<tensorflow.python.keras.callbacks.History at 0x7f03b5247b90>"
      ]
     },
     "execution_count": 125,
     "metadata": {
      "tags": []
     },
     "output_type": "execute_result"
    }
   ],
   "source": [
    "from tensorflow.keras.optimizers import Adam\n",
    "lowratemodel= Model(inputs=model4.input, \n",
    "              outputs=model4.output)\n",
    "\n",
    "optimizer=Adam(0.00001)\n",
    "#metric = TopKCategoricalAccuracy(k=3)\n",
    "lowratemodel.compile(optimizer='Adam',\n",
    "              loss='categorical_crossentropy',\n",
    "              metrics=['accuracy'])\n",
    "\n",
    "\n",
    "lowratemodel.fit(train_generator,\n",
    "          epochs=5,\n",
    "          callbacks=[early_stop],\n",
    "          validation_data=validation_generator)"
   ]
  },
  {
   "cell_type": "markdown",
   "metadata": {},
   "source": [
    "Again, as can be seen, no noticeable improvement."
   ]
  },
  {
   "cell_type": "markdown",
   "metadata": {},
   "source": [
    "### ResNet50V2"
   ]
  },
  {
   "cell_type": "code",
   "execution_count": 32,
   "metadata": {
    "colab": {
     "base_uri": "https://localhost:8080/"
    },
    "id": "HWQcy-PT1cl7",
    "outputId": "89d940c0-466a-41a2-be2a-5b6b2a574454"
   },
   "outputs": [
    {
     "name": "stdout",
     "output_type": "stream",
     "text": [
      "Epoch 1/25\n",
      "195/195 [==============================] - 436s 2s/step - loss: 2.3182 - accuracy: 0.3186 - val_loss: 1.3012 - val_accuracy: 0.5996\n",
      "Epoch 2/25\n",
      "195/195 [==============================] - 426s 2s/step - loss: 1.2102 - accuracy: 0.6352 - val_loss: 1.0891 - val_accuracy: 0.6710\n",
      "Epoch 3/25\n",
      "195/195 [==============================] - 433s 2s/step - loss: 1.0271 - accuracy: 0.6894 - val_loss: 1.0311 - val_accuracy: 0.6832\n",
      "Epoch 4/25\n",
      "195/195 [==============================] - 445s 2s/step - loss: 0.9175 - accuracy: 0.7188 - val_loss: 0.9907 - val_accuracy: 0.6986\n",
      "Epoch 5/25\n",
      "195/195 [==============================] - 436s 2s/step - loss: 0.8122 - accuracy: 0.7419 - val_loss: 0.9508 - val_accuracy: 0.7012\n",
      "Epoch 6/25\n",
      "195/195 [==============================] - 428s 2s/step - loss: 0.7367 - accuracy: 0.7727 - val_loss: 0.9097 - val_accuracy: 0.7256\n",
      "Epoch 7/25\n",
      "195/195 [==============================] - 424s 2s/step - loss: 0.6931 - accuracy: 0.7908 - val_loss: 0.9196 - val_accuracy: 0.7275\n",
      "Epoch 8/25\n",
      "195/195 [==============================] - 408s 2s/step - loss: 0.6664 - accuracy: 0.7955 - val_loss: 0.9229 - val_accuracy: 0.7172\n",
      "Epoch 00008: early stopping\n"
     ]
    },
    {
     "data": {
      "text/plain": [
       "<tensorflow.python.keras.callbacks.History at 0x7f453eb7cdd0>"
      ]
     },
     "execution_count": 32,
     "metadata": {
      "tags": []
     },
     "output_type": "execute_result"
    }
   ],
   "source": [
    "from tensorflow.keras.models import Model\n",
    "from tensorflow.keras.applications import ResNet50V2\n",
    "#from tensorflow.keras.applications import VGG19\n",
    "from tensorflow.keras.callbacks import EarlyStopping\n",
    "from tensorflow.keras.regularizers import L2\n",
    "\n",
    "model5 = ResNet50V2(weights='imagenet',\n",
    "                   include_top=False,\n",
    "                   input_shape=(height,width,3))\n",
    "\n",
    "for layer in model5.layers:\n",
    "    layer.trainable = False\n",
    "\n",
    "\n",
    "\n",
    "    # Add our own layers to the end of the network\n",
    "x = model5.output \n",
    "x=AveragePooling2D()(x)\n",
    "x=GlobalAveragePooling2D()(x)\n",
    "\n",
    "output = Dense(num_classes, activation='softmax')(x)\n",
    "\n",
    "model5= Model(inputs=model5.input, \n",
    "              outputs=output)\n",
    "\n",
    "early_stop = EarlyStopping(monitor='val_loss', \n",
    "                           patience=2, \n",
    "                           mode='min', \n",
    "                           verbose=1)\n",
    "\n",
    "model5.compile(optimizer='Adam',\n",
    "              loss='categorical_crossentropy',\n",
    "              metrics=['accuracy'])\n",
    "\n",
    "\n",
    "model5.fit(train_generator,\n",
    "          epochs=25,\n",
    "          callbacks=[early_stop],\n",
    "          validation_data=validation_generator)"
   ]
  },
  {
   "cell_type": "markdown",
   "metadata": {},
   "source": [
    "Model tops out at about 72% validation accuracy, much higher than VGG model and any model for style classification. Additionally, this is reached much faster than for VGG. Final validation loss is also much lower (around 1.6 for VGG)\n",
    "\n",
    "Saving best working model so far:"
   ]
  },
  {
   "cell_type": "code",
   "execution_count": 33,
   "metadata": {
    "colab": {
     "base_uri": "https://localhost:8080/"
    },
    "id": "_-MRLhP5UJms",
    "outputId": "093f86e4-19f3-47fc-8ca1-3ecac468ef99"
   },
   "outputs": [
    {
     "name": "stdout",
     "output_type": "stream",
     "text": [
      "INFO:tensorflow:Assets written to: Res_Artist_real/assets\n"
     ]
    }
   ],
   "source": [
    "!mkdir Res_Artist_real\n",
    "model4.save('Res_Artist_real')"
   ]
  },
  {
   "cell_type": "code",
   "execution_count": 34,
   "metadata": {
    "id": "MWAwcIuuUWDg"
   },
   "outputs": [],
   "source": [
    "!cp -r Res_Artist_real drive/MyDrive/"
   ]
  },
  {
   "cell_type": "markdown",
   "metadata": {},
   "source": [
    "Try lowering learning rate again and testing:"
   ]
  },
  {
   "cell_type": "code",
   "execution_count": 35,
   "metadata": {
    "colab": {
     "base_uri": "https://localhost:8080/"
    },
    "id": "EsR-eTPDUgc4",
    "outputId": "812a70e3-a222-4c9e-f9e1-ae67c2695c49"
   },
   "outputs": [
    {
     "name": "stdout",
     "output_type": "stream",
     "text": [
      "Epoch 1/10\n",
      "195/195 [==============================] - 436s 2s/step - loss: 0.6356 - accuracy: 0.8034 - val_loss: 0.9311 - val_accuracy: 0.7192\n",
      "Epoch 2/10\n",
      "195/195 [==============================] - 404s 2s/step - loss: 0.6140 - accuracy: 0.8132 - val_loss: 0.8927 - val_accuracy: 0.7314\n",
      "Epoch 3/10\n",
      "195/195 [==============================] - 408s 2s/step - loss: 0.5835 - accuracy: 0.8161 - val_loss: 0.8946 - val_accuracy: 0.7243\n",
      "Epoch 4/10\n",
      "195/195 [==============================] - 402s 2s/step - loss: 0.5611 - accuracy: 0.8224 - val_loss: 0.8806 - val_accuracy: 0.7326\n",
      "Epoch 5/10\n",
      "195/195 [==============================] - 400s 2s/step - loss: 0.5434 - accuracy: 0.8301 - val_loss: 0.9872 - val_accuracy: 0.6960\n",
      "Epoch 6/10\n",
      "195/195 [==============================] - 399s 2s/step - loss: 0.5164 - accuracy: 0.8420 - val_loss: 0.8938 - val_accuracy: 0.7281\n",
      "Epoch 00006: early stopping\n"
     ]
    },
    {
     "data": {
      "text/plain": [
       "<tensorflow.python.keras.callbacks.History at 0x7f42cebaf810>"
      ]
     },
     "execution_count": 35,
     "metadata": {
      "tags": []
     },
     "output_type": "execute_result"
    }
   ],
   "source": [
    "from tensorflow.keras.optimizers import Adam\n",
    "lowratemodel= Model(inputs=model5.input, \n",
    "              outputs=model5.output)\n",
    "\n",
    "optimizer=Adam(0.0001)\n",
    "\n",
    "lowratemodel.compile(optimizer='Adam',\n",
    "              loss='categorical_crossentropy',\n",
    "              metrics=['accuracy'])\n",
    "\n",
    "\n",
    "lowratemodel.fit(train_generator,\n",
    "          epochs=10,\n",
    "          callbacks=[early_stop],\n",
    "          validation_data=validation_generator)"
   ]
  },
  {
   "cell_type": "markdown",
   "metadata": {},
   "source": [
    "As can be seen, possibly slight increase of a percent or two in accuracy before it dropped again, limiting the epochs at the lower learning rate:"
   ]
  },
  {
   "cell_type": "code",
   "execution_count": 36,
   "metadata": {
    "colab": {
     "base_uri": "https://localhost:8080/"
    },
    "id": "aeEyTIrierNV",
    "outputId": "8e76b0e2-de35-4b1e-b429-0463b1c11139"
   },
   "outputs": [
    {
     "name": "stdout",
     "output_type": "stream",
     "text": [
      "Epoch 1/4\n",
      "195/195 [==============================] - 404s 2s/step - loss: 0.5080 - accuracy: 0.8440 - val_loss: 0.9255 - val_accuracy: 0.7301\n",
      "Epoch 2/4\n",
      "195/195 [==============================] - 400s 2s/step - loss: 0.4772 - accuracy: 0.8522 - val_loss: 0.9060 - val_accuracy: 0.7224\n",
      "Epoch 3/4\n",
      "195/195 [==============================] - 398s 2s/step - loss: 0.4623 - accuracy: 0.8547 - val_loss: 0.8842 - val_accuracy: 0.7468\n",
      "Epoch 4/4\n",
      "195/195 [==============================] - 393s 2s/step - loss: 0.4482 - accuracy: 0.8605 - val_loss: 0.9120 - val_accuracy: 0.7339\n"
     ]
    },
    {
     "data": {
      "text/plain": [
       "<tensorflow.python.keras.callbacks.History at 0x7f42cd0d82d0>"
      ]
     },
     "execution_count": 36,
     "metadata": {
      "tags": []
     },
     "output_type": "execute_result"
    }
   ],
   "source": [
    "from tensorflow.keras.optimizers import Adam\n",
    "lowratemodel= Model(inputs=model5.input, \n",
    "              outputs=model5.output)\n",
    "\n",
    "optimizer=Adam(0.0001)\n",
    "\n",
    "lowratemodel.compile(optimizer='Adam',\n",
    "              loss='categorical_crossentropy',\n",
    "              metrics=['accuracy'])\n",
    "\n",
    "\n",
    "lowratemodel.fit(train_generator,\n",
    "          epochs=4,\n",
    "          callbacks=[early_stop],\n",
    "          validation_data=validation_generator)"
   ]
  },
  {
   "cell_type": "markdown",
   "metadata": {},
   "source": [
    "About a 1-2% improvement can be seen. "
   ]
  },
  {
   "cell_type": "code",
   "execution_count": 52,
   "metadata": {
    "colab": {
     "base_uri": "https://localhost:8080/"
    },
    "id": "kZ3hailJr0_m",
    "outputId": "ba45ba64-8c1f-4161-c011-09d76e888a7f"
   },
   "outputs": [
    {
     "name": "stdout",
     "output_type": "stream",
     "text": [
      "INFO:tensorflow:Assets written to: Res_Artist_real/assets\n"
     ]
    }
   ],
   "source": [
    "lowratemodel.save('Res_Artist_real')"
   ]
  },
  {
   "cell_type": "code",
   "execution_count": 53,
   "metadata": {
    "id": "l80PTvgwr-S6"
   },
   "outputs": [],
   "source": [
    "!cp -r Res_Artist_real drive/MyDrive/"
   ]
  },
  {
   "cell_type": "code",
   "execution_count": 103,
   "metadata": {
    "colab": {
     "base_uri": "https://localhost:8080/"
    },
    "id": "qcY_3s8qicDl",
    "outputId": "4345d8f2-5e49-4e86-d91d-905b98f485e9"
   },
   "outputs": [
    {
     "name": "stdout",
     "output_type": "stream",
     "text": [
      "22/22 [==============================] - 73s 3s/step - loss: 1.0622 - accuracy: 0.7093\n"
     ]
    },
    {
     "data": {
      "text/plain": [
       "[1.062248706817627, 0.709275484085083]"
      ]
     },
     "execution_count": 103,
     "metadata": {
      "tags": []
     },
     "output_type": "execute_result"
    }
   ],
   "source": [
    "model5.evaluate(test_generator)"
   ]
  },
  {
   "cell_type": "markdown",
   "metadata": {},
   "source": [
    "The test set accuracy comes out to about 71%, a decent figure for such complex classification problem with 20 classes. Testing top-3 accuracy:"
   ]
  },
  {
   "cell_type": "code",
   "execution_count": 51,
   "metadata": {
    "colab": {
     "base_uri": "https://localhost:8080/"
    },
    "id": "irMAWD1GkWOb",
    "outputId": "95734c4f-f1ee-4caa-a7e0-2d741c7124a0"
   },
   "outputs": [
    {
     "name": "stdout",
     "output_type": "stream",
     "text": [
      "22/22 [==============================] - 73s 3s/step - loss: 0.9896 - top_k_categorical_accuracy: 0.8921\n"
     ]
    },
    {
     "data": {
      "text/plain": [
       "[1.0084816217422485, 0.8887863159179688]"
      ]
     },
     "execution_count": 51,
     "metadata": {
      "tags": []
     },
     "output_type": "execute_result"
    }
   ],
   "source": [
    "from tensorflow.keras.metrics import TopKCategoricalAccuracy\n",
    "\n",
    "topkmodel= Model(inputs=lowratemodel.input, \n",
    "              outputs=lowratemodel.output)\n",
    "\n",
    "metric = TopKCategoricalAccuracy(k=3)\n",
    "topkmodel.compile(optimizer='Adam',\n",
    "              loss='categorical_crossentropy',\n",
    "              metrics=metric)\n",
    "\n",
    "topkmodel.evaluate(test_generator)"
   ]
  },
  {
   "cell_type": "markdown",
   "metadata": {},
   "source": [
    "The top-3 test accuracy of 89% is quite good.\n",
    "\n",
    "Now, successively unfreezing layers by blocks and retraining:"
   ]
  },
  {
   "cell_type": "code",
   "execution_count": 58,
   "metadata": {
    "colab": {
     "base_uri": "https://localhost:8080/"
    },
    "id": "DhKHw0GGxrFs",
    "outputId": "54eebd6a-22c3-4032-a409-e5fe928ca535"
   },
   "outputs": [
    {
     "name": "stdout",
     "output_type": "stream",
     "text": [
      "Epoch 1/8\n",
      "195/195 [==============================] - 391s 2s/step - loss: 0.4046 - accuracy: 0.8751 - val_loss: 0.8647 - val_accuracy: 0.7449\n",
      "Epoch 2/8\n",
      "195/195 [==============================] - 389s 2s/step - loss: 0.4122 - accuracy: 0.8650 - val_loss: 0.9257 - val_accuracy: 0.7314\n",
      "Epoch 3/8\n",
      "195/195 [==============================] - 391s 2s/step - loss: 0.4097 - accuracy: 0.8732 - val_loss: 0.8942 - val_accuracy: 0.7410\n",
      "Epoch 00003: early stopping\n"
     ]
    },
    {
     "data": {
      "text/plain": [
       "<tensorflow.python.keras.callbacks.History at 0x7f453eba1050>"
      ]
     },
     "execution_count": 58,
     "metadata": {
      "tags": []
     },
     "output_type": "execute_result"
    }
   ],
   "source": [
    "from tensorflow.keras import layers\n",
    "\n",
    "for layer in model5.layers:\n",
    "    layer.trainable = False\n",
    "\n",
    "for layer in model5.layers[-15:]:             \n",
    "        if not isinstance(layer, layers.BatchNormalization):\n",
    "            layer.trainable = True\n",
    "\n",
    "model5.fit(train_generator,\n",
    "          epochs=8,\n",
    "          callbacks=[early_stop],\n",
    "          validation_data=validation_generator)"
   ]
  },
  {
   "cell_type": "code",
   "execution_count": 60,
   "metadata": {
    "colab": {
     "base_uri": "https://localhost:8080/"
    },
    "id": "n4hFP6bc2UTB",
    "outputId": "bef91596-8420-4b5f-9c4d-8b93dfda491a"
   },
   "outputs": [
    {
     "name": "stdout",
     "output_type": "stream",
     "text": [
      "Epoch 1/8\n",
      "195/195 [==============================] - 398s 2s/step - loss: 0.3899 - accuracy: 0.8770 - val_loss: 0.9161 - val_accuracy: 0.7384\n",
      "Epoch 2/8\n",
      "195/195 [==============================] - 398s 2s/step - loss: 0.3802 - accuracy: 0.8772 - val_loss: 0.9225 - val_accuracy: 0.7243\n",
      "Epoch 3/8\n",
      "195/195 [==============================] - 394s 2s/step - loss: 0.3901 - accuracy: 0.8743 - val_loss: 0.9317 - val_accuracy: 0.7262\n",
      "Epoch 00003: early stopping\n"
     ]
    },
    {
     "data": {
      "text/plain": [
       "<tensorflow.python.keras.callbacks.History at 0x7f42c9cc0d10>"
      ]
     },
     "execution_count": 60,
     "metadata": {
      "tags": []
     },
     "output_type": "execute_result"
    }
   ],
   "source": [
    "from tensorflow.keras import layers\n",
    "\n",
    "for layer in model5.layers:\n",
    "    layer.trainable = False\n",
    "\n",
    "for layer in model5.layers[-26:]:             \n",
    "        if not isinstance(layer, layers.BatchNormalization):\n",
    "            layer.trainable = True\n",
    "\n",
    "model5.fit(train_generator,\n",
    "          epochs=8,\n",
    "          callbacks=[early_stop],\n",
    "          validation_data=validation_generator)"
   ]
  },
  {
   "cell_type": "code",
   "execution_count": 61,
   "metadata": {
    "colab": {
     "base_uri": "https://localhost:8080/"
    },
    "id": "wRuruaiy2eua",
    "outputId": "1ef20f02-3e42-4378-ac41-9667e387c82b"
   },
   "outputs": [
    {
     "name": "stdout",
     "output_type": "stream",
     "text": [
      "Epoch 1/8\n",
      "195/195 [==============================] - 397s 2s/step - loss: 0.3712 - accuracy: 0.8873 - val_loss: 0.9230 - val_accuracy: 0.7346\n",
      "Epoch 2/8\n",
      "195/195 [==============================] - 393s 2s/step - loss: 0.3674 - accuracy: 0.8877 - val_loss: 0.8956 - val_accuracy: 0.7500\n",
      "Epoch 3/8\n",
      "195/195 [==============================] - 393s 2s/step - loss: 0.3639 - accuracy: 0.8848 - val_loss: 0.9314 - val_accuracy: 0.7320\n",
      "Epoch 4/8\n",
      "195/195 [==============================] - 389s 2s/step - loss: 0.3572 - accuracy: 0.8870 - val_loss: 0.9603 - val_accuracy: 0.7294\n",
      "Epoch 00004: early stopping\n"
     ]
    },
    {
     "data": {
      "text/plain": [
       "<tensorflow.python.keras.callbacks.History at 0x7f42cd92efd0>"
      ]
     },
     "execution_count": 61,
     "metadata": {
      "tags": []
     },
     "output_type": "execute_result"
    }
   ],
   "source": [
    "from tensorflow.keras import layers\n",
    "\n",
    "for layer in model5.layers:\n",
    "    layer.trainable = False\n",
    "\n",
    "for layer in model5.layers[-38:]:             \n",
    "        if not isinstance(layer, layers.BatchNormalization):\n",
    "            layer.trainable = True\n",
    "\n",
    "model5.fit(train_generator,\n",
    "          epochs=8,\n",
    "          callbacks=[early_stop],\n",
    "          validation_data=validation_generator)"
   ]
  },
  {
   "cell_type": "markdown",
   "metadata": {},
   "source": [
    "As can be seen, unfreezing seems to make little improvement (some epochs due seem to push validation accuracy up to 75%, about a 1% improvement) but not significant and eventually starts decreasing in possible start of overfitting. \n",
    "\n",
    "As this is best model with good accuracy, looking at predictions and confusion matrix:"
   ]
  },
  {
   "cell_type": "code",
   "execution_count": null,
   "metadata": {},
   "outputs": [],
   "source": [
    "predict_probas = model5.predict(test_generator)  #Store predictions for test data set\n",
    "y_predict = np.argmax(predict_probas, axis=1)    #Obtain top prediction for each image in test data set"
   ]
  },
  {
   "cell_type": "code",
   "execution_count": 81,
   "metadata": {
    "colab": {
     "base_uri": "https://localhost:8080/",
     "height": 867
    },
    "id": "oieVjQBcbMTS",
    "outputId": "3e71b20e-f733-42b5-e6d3-54cf3948afe2"
   },
   "outputs": [
    {
     "data": {
      "image/png": "[encoded data removed]",
      "text/plain": [
       "<Figure size 864x864 with 1 Axes>"
      ]
     },
     "metadata": {
      "needs_background": "light",
      "tags": []
     },
     "output_type": "display_data"
    }
   ],
   "source": [
    "from sklearn.metrics import confusion_matrix\n",
    "\n",
    "cfm=confusion_matrix(np.array(test_generator.classes), y_predict)     #Generate confusion matrix\n",
    "plt.figure(figsize = (12,12))\n",
    "sns.heatmap(cfm,\n",
    "            annot=True,\n",
    "            cbar=False,\n",
    "            xticklabels=test_generator.class_indices,\n",
    "            yticklabels=test_generator.class_indices,\n",
    "            cmap=\"rocket_r\",\n",
    "            linewidths=1,\n",
    "            \n",
    "           )\n",
    "plt.title('Confusion Matrix',size = 25,y=1.01)\n",
    "plt.xlabel(\"Predicted Label\", size = 20)\n",
    "plt.ylabel(\"True Label\", size = 20)\n",
    "plt.show()"
   ]
  },
  {
   "cell_type": "markdown",
   "metadata": {},
   "source": [
    "The largest overlap seems to occur between Matise and Picasso, following by Konchalovsky and Saryan and then Kustodiev and Repin. Getting more exact figures on misclassification by calculating precision and recall for each artist:"
   ]
  },
  {
   "cell_type": "code",
   "execution_count": 119,
   "metadata": {
    "colab": {
     "base_uri": "https://localhost:8080/"
    },
    "id": "YNE_vFbChTGy",
    "outputId": "de29dafa-7215-4000-a176-57568df114ee"
   },
   "outputs": [
    {
     "name": "stdout",
     "output_type": "stream",
     "text": [
      "                            precision    recall  f1-score   support\n",
      "\n",
      "            Albrecht Durer       0.82      0.79      0.80       117\n",
      "           Boris Kustodiev       0.58      0.51      0.54       110\n",
      "             Camille Corot       0.71      0.69      0.70       101\n",
      "          Camille Pissarro       0.64      0.65      0.64       106\n",
      "              Claude Monet       0.80      0.68      0.73       115\n",
      "               Edgar Degas       0.85      0.61      0.71       108\n",
      "             Eugene Boudin       0.92      0.83      0.88       109\n",
      "Giovanni Battista Piranesi       0.89      0.94      0.92        98\n",
      "              Gustave Dore       0.87      0.92      0.89       113\n",
      "             Henri Matisse       0.83      0.54      0.66       111\n",
      "                Ilya Repin       0.42      0.75      0.54       103\n",
      "           Ivan Aivazovsky       0.96      0.89      0.93       122\n",
      "       John Singer Sargent       0.60      0.59      0.59       123\n",
      "           Martiros Saryan       0.53      0.85      0.65       100\n",
      "             Pablo Picasso       0.59      0.70      0.64       123\n",
      "              Paul Cezanne       0.74      0.74      0.74        87\n",
      "     Pierre-Auguste Renoir       0.74      0.64      0.69       112\n",
      "        Pyotr Konchalovsky       0.71      0.44      0.54       111\n",
      "        Theophile Steinlen       0.81      0.71      0.76        96\n",
      "          Vincent van Gogh       0.63      0.75      0.68       102\n",
      "\n",
      "                  accuracy                           0.71      2167\n",
      "                 macro avg       0.73      0.71      0.71      2167\n",
      "              weighted avg       0.73      0.71      0.71      2167\n",
      "\n"
     ]
    }
   ],
   "source": [
    "from sklearn.metrics import classification_report\n",
    "\n",
    "report_initial = classification_report(np.array(test_generator.classes), y_predict, target_names=list(test_generator.class_indices))\n",
    "print(report_initial)"
   ]
  },
  {
   "cell_type": "markdown",
   "metadata": {},
   "source": [
    "The best classified artists seem to be: Piranesi (sketch like art), Aivazovsky (many water dominated landscapes in realistic style), Dore (etchings) and Durer (distinctive early period often including sketch like art). On the other hand, Sargent and Kustodiev have both precision and recall as low values, meaning they are likely difficult to characterize uniquely. Picasso, Saryan and Repin stand out for having much higher recall than precision, meaning they are often being predicted as artists for others' work. This could point to a wider variety in their painting styles (Picasso especially seems to have widely differeing styles on inspection). Matisse seems to have the opposite problem where very few of his works are being classified as such, those that are have fairly high precision. This did indeed seem to be the case where independently downloaded works of Matisse were often predicted to be Picasso works (often using similar color and shape outlines). \n",
    "\n",
    "An example of a Matisse painting, donwloaded with some watermark like artifacts, which is correctly classified:"
   ]
  },
  {
   "cell_type": "code",
   "execution_count": 151,
   "metadata": {
    "colab": {
     "base_uri": "https://localhost:8080/",
     "height": 337
    },
    "id": "tT53Ve8W1gzv",
    "outputId": "b21b15fc-999d-4f77-e899-caa28bfd52ab"
   },
   "outputs": [
    {
     "data": {
      "image/png": "[encoded data removed]",
      "text/plain": [
       "<PIL.Image.Image image mode=RGB size=320x320 at 0x7F42C9A72AD0>"
      ]
     },
     "execution_count": 151,
     "metadata": {
      "tags": []
     },
     "output_type": "execute_result"
    }
   ],
   "source": [
    "im= image.load_img('mat.jpg', target_size=(height,width)) #loading in image\n",
    "im"
   ]
  },
  {
   "cell_type": "code",
   "execution_count": null,
   "metadata": {},
   "outputs": [],
   "source": [
    "im2=image.img_to_array(im2)   #transform to number representations\n",
    "testim=im2[np.newaxis,:,:]    #As model is trained on batches of images, convert to tensor with 1 entry in first dimension (batch of 1 image)"
   ]
  },
  {
   "cell_type": "code",
   "execution_count": null,
   "metadata": {},
   "outputs": [],
   "source": [
    "predict = model5.predict(testim) #Make prediction\n",
    "gueses=pd.DataFrame(predict.T, index=train_generator.class_indices, columns=['Prediction'])\n",
    "gueses.sort_values(by='Prediction', ascending=False)                #Rank and display predictions"
   ]
  },
  {
   "cell_type": "code",
   "execution_count": null,
   "metadata": {},
   "outputs": [],
   "source": []
  },
  {
   "cell_type": "code",
   "execution_count": null,
   "metadata": {},
   "outputs": [],
   "source": []
  },
  {
   "cell_type": "code",
   "execution_count": null,
   "metadata": {},
   "outputs": [],
   "source": []
  },
  {
   "cell_type": "markdown",
   "metadata": {},
   "source": [
    "### Loading VGG trained model\n",
    "\n",
    "Loading trained VGG model from above in order to further unfreeze and train layers and use as potential layers for artist style transfer:"
   ]
  },
  {
   "cell_type": "code",
   "execution_count": 65,
   "metadata": {
    "id": "WN16EgGsIett"
   },
   "outputs": [],
   "source": [
    "!cp -r drive/MyDrive/Res_Artist_best/ ."
   ]
  },
  {
   "cell_type": "code",
   "execution_count": 77,
   "metadata": {
    "id": "mC2RtFoII2yM"
   },
   "outputs": [],
   "source": [
    "from tensorflow.keras.models import load_model\n",
    "model4=load_model('./Res_Artist_best')"
   ]
  },
  {
   "cell_type": "code",
   "execution_count": 74,
   "metadata": {
    "colab": {
     "base_uri": "https://localhost:8080/"
    },
    "id": "4pc1iovWDhXR",
    "outputId": "13cf725e-75c2-4c6e-e6c4-fc93303f61c1"
   },
   "outputs": [
    {
     "name": "stdout",
     "output_type": "stream",
     "text": [
      "Model: \"model\"\n",
      "_________________________________________________________________\n",
      "Layer (type)                 Output Shape              Param #   \n",
      "=================================================================\n",
      "input_1 (InputLayer)         [(None, 320, 320, 3)]     0         \n",
      "_________________________________________________________________\n",
      "block1_conv1 (Conv2D)        (None, 320, 320, 64)      1792      \n",
      "_________________________________________________________________\n",
      "block1_conv2 (Conv2D)        (None, 320, 320, 64)      36928     \n",
      "_________________________________________________________________\n",
      "block1_pool (MaxPooling2D)   (None, 160, 160, 64)      0         \n",
      "_________________________________________________________________\n",
      "block2_conv1 (Conv2D)        (None, 160, 160, 128)     73856     \n",
      "_________________________________________________________________\n",
      "block2_conv2 (Conv2D)        (None, 160, 160, 128)     147584    \n",
      "_________________________________________________________________\n",
      "block2_pool (MaxPooling2D)   (None, 80, 80, 128)       0         \n",
      "_________________________________________________________________\n",
      "block3_conv1 (Conv2D)        (None, 80, 80, 256)       295168    \n",
      "_________________________________________________________________\n",
      "block3_conv2 (Conv2D)        (None, 80, 80, 256)       590080    \n",
      "_________________________________________________________________\n",
      "block3_conv3 (Conv2D)        (None, 80, 80, 256)       590080    \n",
      "_________________________________________________________________\n",
      "block3_conv4 (Conv2D)        (None, 80, 80, 256)       590080    \n",
      "_________________________________________________________________\n",
      "block3_pool (MaxPooling2D)   (None, 40, 40, 256)       0         \n",
      "_________________________________________________________________\n",
      "block4_conv1 (Conv2D)        (None, 40, 40, 512)       1180160   \n",
      "_________________________________________________________________\n",
      "block4_conv2 (Conv2D)        (None, 40, 40, 512)       2359808   \n",
      "_________________________________________________________________\n",
      "block4_conv3 (Conv2D)        (None, 40, 40, 512)       2359808   \n",
      "_________________________________________________________________\n",
      "block4_conv4 (Conv2D)        (None, 40, 40, 512)       2359808   \n",
      "_________________________________________________________________\n",
      "block4_pool (MaxPooling2D)   (None, 20, 20, 512)       0         \n",
      "_________________________________________________________________\n",
      "block5_conv1 (Conv2D)        (None, 20, 20, 512)       2359808   \n",
      "_________________________________________________________________\n",
      "block5_conv2 (Conv2D)        (None, 20, 20, 512)       2359808   \n",
      "_________________________________________________________________\n",
      "block5_conv3 (Conv2D)        (None, 20, 20, 512)       2359808   \n",
      "_________________________________________________________________\n",
      "block5_conv4 (Conv2D)        (None, 20, 20, 512)       2359808   \n",
      "_________________________________________________________________\n",
      "block5_pool (MaxPooling2D)   (None, 10, 10, 512)       0         \n",
      "_________________________________________________________________\n",
      "average_pooling2d (AveragePo (None, 5, 5, 512)         0         \n",
      "_________________________________________________________________\n",
      "global_average_pooling2d (Gl (None, 512)               0         \n",
      "_________________________________________________________________\n",
      "dense (Dense)                (None, 20)                10260     \n",
      "=================================================================\n",
      "Total params: 20,034,644\n",
      "Trainable params: 10,260\n",
      "Non-trainable params: 20,024,384\n",
      "_________________________________________________________________\n"
     ]
    }
   ],
   "source": [
    "model4.summary() #layer structure, used to find blocks and number of layers to unfreeze"
   ]
  },
  {
   "cell_type": "code",
   "execution_count": 68,
   "metadata": {
    "colab": {
     "base_uri": "https://localhost:8080/"
    },
    "id": "vk9YvDZxKvjk",
    "outputId": "8fceb589-835b-4397-c024-014240e2c481"
   },
   "outputs": [
    {
     "data": {
      "text/plain": [
       "25"
      ]
     },
     "execution_count": 68,
     "metadata": {
      "tags": []
     },
     "output_type": "execute_result"
    }
   ],
   "source": [
    "len(model4.layers)"
   ]
  },
  {
   "cell_type": "code",
   "execution_count": 79,
   "metadata": {
    "colab": {
     "base_uri": "https://localhost:8080/"
    },
    "id": "F4XvCnOwFkkm",
    "outputId": "8ce5fc78-6322-4fa2-d2c3-58d6540440d6"
   },
   "outputs": [
    {
     "name": "stdout",
     "output_type": "stream",
     "text": [
      "Epoch 1/5\n",
      "195/195 [==============================] - 410s 2s/step - loss: 3.0057 - accuracy: 0.0519 - val_loss: 2.9897 - val_accuracy: 0.0578\n",
      "Epoch 2/5\n",
      "195/195 [==============================] - 405s 2s/step - loss: 2.9902 - accuracy: 0.0503 - val_loss: 2.9859 - val_accuracy: 0.0598\n",
      "Epoch 3/5\n",
      "195/195 [==============================] - 395s 2s/step - loss: 2.9842 - accuracy: 0.0513 - val_loss: 2.9816 - val_accuracy: 0.0611\n",
      "Epoch 4/5\n",
      "195/195 [==============================] - 389s 2s/step - loss: 2.9844 - accuracy: 0.0614 - val_loss: 2.9756 - val_accuracy: 0.0598\n",
      "Epoch 5/5\n",
      "195/195 [==============================] - 387s 2s/step - loss: 2.9781 - accuracy: 0.0569 - val_loss: 2.9725 - val_accuracy: 0.0797\n"
     ]
    },
    {
     "data": {
      "text/plain": [
       "<tensorflow.python.keras.callbacks.History at 0x7f42cf6f7090>"
      ]
     },
     "execution_count": 79,
     "metadata": {
      "tags": []
     },
     "output_type": "execute_result"
    }
   ],
   "source": [
    "from tensorflow.keras.optimizers import Adam\n",
    "\n",
    "\n",
    "model4_2=Sequential()\n",
    "for layer in model4.layers[:-1]:  #After high layer unfreezing produced very low accuracy, reload model and strip last layer and reclassify on last softmax layer again\n",
    "  model4_2.add(layer)\n",
    "\n",
    "\n",
    "\n",
    "optimizer=Adam(0.001)\n",
    "\n",
    "for layer in model4_2.layers:\n",
    "    layer.trainable = False\n",
    "\n",
    "#for layer in model4.layers[-3:]:             \n",
    "#        if not isinstance(layer, layers.BatchNormalization):\n",
    "#            layer.trainable = True\n",
    "\n",
    "model4_2.add(Dense(20, activation='softmax'))\n",
    "\n",
    "model4_2.compile(optimizer='Adam',\n",
    "              loss='categorical_crossentropy',\n",
    "              metrics=['accuracy'])\n",
    "\n",
    "model4_2.fit(train_generator,\n",
    "          epochs=5,\n",
    "          callbacks=[early_stop],\n",
    "          validation_data=validation_generator)"
   ]
  },
  {
   "cell_type": "markdown",
   "metadata": {},
   "source": [
    "As can be seen, even readding last dense layer, while keeping all previously trained weights the same, the validation accuracy is extremely bad, even the fresh pre-trained networks started much better in accuracy. This also occured when using previous literature models on almost identical dataset. Not clear what is causing this very large drop in accuracy and seems to defeat purpose of saving the model and using it in transferring styles."
   ]
  }
 ],
 "metadata": {
  "accelerator": "GPU",
  "colab": {
   "collapsed_sections": [],
   "machine_shape": "hm",
   "name": "Capstone4.ipynb",
   "provenance": []
  },
  "kernelspec": {
   "display_name": "Python 3",
   "language": "python",
   "name": "python3"
  },
  "language_info": {
   "codemirror_mode": {
    "name": "ipython",
    "version": 3
   },
   "file_extension": ".py",
   "mimetype": "text/x-python",
   "name": "python",
   "nbconvert_exporter": "python",
   "pygments_lexer": "ipython3",
   "version": "3.7.6"
  }
 },
 "nbformat": 4,
 "nbformat_minor": 4
}
