{
 "cells": [
  {
   "cell_type": "markdown",
   "metadata": {
    "id": "IWh09dSue50P"
   },
   "source": [
    "# Downloading Data From Kaggle for Google Colab "
   ]
  },
  {
   "cell_type": "code",
   "execution_count": null,
   "metadata": {
    "colab": {
     "base_uri": "https://localhost:8080/"
    },
    "id": "fP2O-4rkV9Xv",
    "outputId": "7d6b2f60-3a30-4b9e-f232-60fa86458b73"
   },
   "outputs": [
    {
     "name": "stdout",
     "output_type": "stream",
     "text": [
      "mkdir: cannot create directory ‘/root/.kaggle’: File exists\n"
     ]
    }
   ],
   "source": [
    "!mkdir ~/.kaggle "
   ]
  },
  {
   "cell_type": "code",
   "execution_count": null,
   "metadata": {
    "id": "5KbsLuLIZYmh"
   },
   "outputs": [],
   "source": [
    "!mkdir ~/.kaggle "
   ]
  },
  {
   "cell_type": "code",
   "execution_count": null,
   "metadata": {
    "id": "cA_MwThOZYmm"
   },
   "outputs": [],
   "source": [
    "!echo '{\"username\":\"\",\"key\":\"\"}' > ~/.kaggle/kaggle.json   #Kaggle API credentials file (my key is redacted), obtained form Kaggle account"
   ]
  },
  {
   "cell_type": "code",
   "execution_count": null,
   "metadata": {
    "id": "lXDkaeowZYmm"
   },
   "outputs": [],
   "source": [
    "!chmod 600 ~/.kaggle/kaggle.json        #Set permissions for credential file"
   ]
  },
  {
   "cell_type": "code",
   "execution_count": null,
   "metadata": {
    "colab": {
     "base_uri": "https://localhost:8080/"
    },
    "id": "81IE6fasZYmm",
    "outputId": "feaa660d-377a-45a4-d9d9-249313cc49c9"
   },
   "outputs": [
    {
     "name": "stdout",
     "output_type": "stream",
     "text": [
      "Requirement already satisfied: kaggle in /usr/local/lib/python3.7/dist-packages (1.5.12)\n",
      "Requirement already satisfied: python-dateutil in /usr/local/lib/python3.7/dist-packages (from kaggle) (2.8.1)\n",
      "Requirement already satisfied: requests in /usr/local/lib/python3.7/dist-packages (from kaggle) (2.23.0)\n",
      "Requirement already satisfied: six>=1.10 in /usr/local/lib/python3.7/dist-packages (from kaggle) (1.15.0)\n",
      "Requirement already satisfied: tqdm in /usr/local/lib/python3.7/dist-packages (from kaggle) (4.41.1)\n",
      "Requirement already satisfied: certifi in /usr/local/lib/python3.7/dist-packages (from kaggle) (2020.12.5)\n",
      "Requirement already satisfied: python-slugify in /usr/local/lib/python3.7/dist-packages (from kaggle) (5.0.2)\n",
      "Requirement already satisfied: urllib3 in /usr/local/lib/python3.7/dist-packages (from kaggle) (1.24.3)\n",
      "Requirement already satisfied: chardet<4,>=3.0.2 in /usr/local/lib/python3.7/dist-packages (from requests->kaggle) (3.0.4)\n",
      "Requirement already satisfied: idna<3,>=2.5 in /usr/local/lib/python3.7/dist-packages (from requests->kaggle) (2.10)\n",
      "Requirement already satisfied: text-unidecode>=1.3 in /usr/local/lib/python3.7/dist-packages (from python-slugify->kaggle) (1.3)\n"
     ]
    }
   ],
   "source": [
    "!pip install kaggle        #Confirm Kaggle API is installed, is by default in Colab"
   ]
  },
  {
   "cell_type": "code",
   "execution_count": null,
   "metadata": {
    "colab": {
     "base_uri": "https://localhost:8080/"
    },
    "id": "8YPiH7AGZYmn",
    "outputId": "baddaf68-fa89-48da-86cd-76aec5c5dc73"
   },
   "outputs": [
    {
     "name": "stdout",
     "output_type": "stream",
     "text": [
      "Downloading train.zip to /content\n",
      "100% 36.0G/36.0G [11:16<00:00, 84.0MB/s]\n",
      "100% 36.0G/36.0G [11:16<00:00, 57.2MB/s]\n"
     ]
    }
   ],
   "source": [
    "!kaggle competitions download -c painter-by-numbers -f train.zip        #Directly download training dataset from Kaggle, uploading from local computer is not feasible"
   ]
  },
  {
   "cell_type": "code",
   "execution_count": null,
   "metadata": {
    "id": "-oZWwKiyZYmo"
   },
   "outputs": [],
   "source": [
    "!unzip -o -q train.zip                                     #Decompress training images"
   ]
  },
  {
   "cell_type": "code",
   "execution_count": null,
   "metadata": {
    "id": "Z3BuPsytZYmo"
   },
   "outputs": [],
   "source": [
    "!rm -r train.zip                    #Free up space "
   ]
  },
  {
   "cell_type": "code",
   "execution_count": null,
   "metadata": {
    "colab": {
     "base_uri": "https://localhost:8080/"
    },
    "id": "YMhNqezjZYmo",
    "outputId": "b368f055-a6d6-4680-e9bf-f800e574d359"
   },
   "outputs": [
    {
     "name": "stdout",
     "output_type": "stream",
     "text": [
      "Downloading test.zip to /content\n",
      "100% 11.1G/11.1G [03:14<00:00, 47.9MB/s]\n",
      "100% 11.1G/11.1G [03:14<00:00, 61.1MB/s]\n"
     ]
    }
   ],
   "source": [
    "!kaggle competitions download -c painter-by-numbers -f test.zip     #Download test images dataset"
   ]
  },
  {
   "cell_type": "code",
   "execution_count": null,
   "metadata": {
    "id": "n0NbL2ugZYmo"
   },
   "outputs": [],
   "source": [
    "!unzip -o -q test.zip "
   ]
  },
  {
   "cell_type": "code",
   "execution_count": null,
   "metadata": {
    "id": "h-STZayR4PJ2"
   },
   "outputs": [],
   "source": [
    "!rm -r test.zip"
   ]
  },
  {
   "cell_type": "code",
   "execution_count": null,
   "metadata": {
    "colab": {
     "base_uri": "https://localhost:8080/"
    },
    "id": "pRcS6epMZYmp",
    "outputId": "69275aa9-d3cc-4e9a-d558-bd2724bbca99"
   },
   "outputs": [
    {
     "name": "stdout",
     "output_type": "stream",
     "text": [
      "37G\ttrain/\n"
     ]
    }
   ],
   "source": [
    "!du -h train/                          #Check proper decompression and presence of full training set (known from local computer)"
   ]
  },
  {
   "cell_type": "code",
   "execution_count": null,
   "metadata": {
    "colab": {
     "base_uri": "https://localhost:8080/"
    },
    "id": "ojhDsiUmZYmp",
    "outputId": "ff2cef0e-b5cd-4847-837c-67eb98f6dcdf"
   },
   "outputs": [
    {
     "name": "stdout",
     "output_type": "stream",
     "text": [
      "Downloading replacements_for_corrupted_files.zip to /content\n",
      " 97% 17.0M/17.5M [00:00<00:00, 22.4MB/s]\n",
      "100% 17.5M/17.5M [00:00<00:00, 32.5MB/s]\n"
     ]
    }
   ],
   "source": [
    "!kaggle competitions download -c painter-by-numbers -f replacements_for_corrupted_files.zip      #Corrupt file replacements"
   ]
  },
  {
   "cell_type": "code",
   "execution_count": null,
   "metadata": {
    "id": "pNYJh1DCZYmp"
   },
   "outputs": [],
   "source": [
    "!unzip -o -q replacements_for_corrupted_files.zip "
   ]
  },
  {
   "cell_type": "code",
   "execution_count": null,
   "metadata": {
    "colab": {
     "base_uri": "https://localhost:8080/"
    },
    "id": "TnzCZpRXZYmq",
    "outputId": "dc016719-bbc7-436b-9e32-9bc4c0918700"
   },
   "outputs": [
    {
     "name": "stdout",
     "output_type": "stream",
     "text": [
      "Downloading all_data_info.csv.zip to /content\n",
      "  0% 0.00/3.80M [00:00<?, ?B/s]\n",
      "100% 3.80M/3.80M [00:00<00:00, 62.3MB/s]\n"
     ]
    }
   ],
   "source": [
    "!kaggle competitions download -c painter-by-numbers -f all_data_info.csv             #CSV file containing metadata on each image "
   ]
  },
  {
   "cell_type": "code",
   "execution_count": null,
   "metadata": {
    "id": "hU6ISzaUZYmq"
   },
   "outputs": [],
   "source": [
    "!unzip -q all_data_info.csv.zip"
   ]
  },
  {
   "cell_type": "markdown",
   "metadata": {},
   "source": [
    "# Start of Modelling"
   ]
  },
  {
   "cell_type": "code",
   "execution_count": null,
   "metadata": {
    "id": "qDUM4MuXI9dL"
   },
   "outputs": [],
   "source": [
    "import numpy as np\n",
    "import pandas as pd\n",
    "import matplotlib.pyplot as plt\n",
    "import seaborn as sns"
   ]
  },
  {
   "cell_type": "code",
   "execution_count": null,
   "metadata": {
    "id": "td6GcEbhPD2N"
   },
   "outputs": [],
   "source": [
    "# Certain Parameter values for selecting training subsets\n",
    "num_classes=20     #Number of classes to target\n",
    "SampleSize=750    #Number of samples per class to include in training (check below 'styles' series to see number of examples per class in raw data)"
   ]
  },
  {
   "cell_type": "code",
   "execution_count": null,
   "metadata": {
    "id": "gVXSbhHTJAjO"
   },
   "outputs": [],
   "source": [
    "df=pd.read_csv(\"all_data_info.csv\")"
   ]
  },
  {
   "cell_type": "markdown",
   "metadata": {},
   "source": [
    "### Filtering "
   ]
  },
  {
   "cell_type": "code",
   "execution_count": null,
   "metadata": {
    "id": "VM2I2xNYKf2U"
   },
   "outputs": [],
   "source": [
    "df=df.drop(df[df['style'].isna()].index)          #Drop null values for in style column\n",
    "df['pixels']=df['pixelsx']*df['pixelsy']\n",
    "df=df.drop(df[df['pixels']>89478485].index)      #Drop images above certain pixel size which seems to cause processing bomb error\n",
    "df=df.drop(df[df['size_bytes']>5.4e7].index)      #Drop images under certain size to again reduce processing error for too large size\n",
    "dftest=df[df['in_train']==False]                    #Store training set images in dataframe\n",
    "df=df[df['in_train']==True]                        #Store testing set images in dataframe"
   ]
  },
  {
   "cell_type": "code",
   "execution_count": null,
   "metadata": {
    "colab": {
     "base_uri": "https://localhost:8080/",
     "height": 745
    },
    "id": "uVwNOXVCLLne",
    "outputId": "4bd0dc57-da46-4ef1-c2bf-d3a74aae77fd"
   },
   "outputs": [
    {
     "data": {
      "text/html": [
       "<div>\n",
       "<style scoped>\n",
       "    .dataframe tbody tr th:only-of-type {\n",
       "        vertical-align: middle;\n",
       "    }\n",
       "\n",
       "    .dataframe tbody tr th {\n",
       "        vertical-align: top;\n",
       "    }\n",
       "\n",
       "    .dataframe thead th {\n",
       "        text-align: right;\n",
       "    }\n",
       "</style>\n",
       "<table border=\"1\" class=\"dataframe\">\n",
       "  <thead>\n",
       "    <tr style=\"text-align: right;\">\n",
       "      <th></th>\n",
       "      <th>artist</th>\n",
       "      <th>date</th>\n",
       "      <th>genre</th>\n",
       "      <th>pixelsx</th>\n",
       "      <th>pixelsy</th>\n",
       "      <th>size_bytes</th>\n",
       "      <th>source</th>\n",
       "      <th>style</th>\n",
       "      <th>title</th>\n",
       "      <th>artist_group</th>\n",
       "      <th>in_train</th>\n",
       "      <th>new_filename</th>\n",
       "      <th>pixels</th>\n",
       "    </tr>\n",
       "  </thead>\n",
       "  <tbody>\n",
       "    <tr>\n",
       "      <th>5</th>\n",
       "      <td>Tosa Mitsuoki</td>\n",
       "      <td>NaN</td>\n",
       "      <td>mythological painting</td>\n",
       "      <td>25528.0</td>\n",
       "      <td>3000.0</td>\n",
       "      <td>10496349.0</td>\n",
       "      <td>wikiart</td>\n",
       "      <td>Yamato-e</td>\n",
       "      <td>Night March of a Hundred Demons (left half)</td>\n",
       "      <td>train_only</td>\n",
       "      <td>True</td>\n",
       "      <td>29855.jpg</td>\n",
       "      <td>76584000.0</td>\n",
       "    </tr>\n",
       "    <tr>\n",
       "      <th>6</th>\n",
       "      <td>Barnett Newman</td>\n",
       "      <td>NaN</td>\n",
       "      <td>abstract</td>\n",
       "      <td>7345.0</td>\n",
       "      <td>8640.0</td>\n",
       "      <td>6383948.0</td>\n",
       "      <td>wikiart</td>\n",
       "      <td>Color Field Painting</td>\n",
       "      <td>Who’s Afraid of Red,  Yellow and Blue II</td>\n",
       "      <td>train_only</td>\n",
       "      <td>True</td>\n",
       "      <td>62252.jpg</td>\n",
       "      <td>63460800.0</td>\n",
       "    </tr>\n",
       "    <tr>\n",
       "      <th>8</th>\n",
       "      <td>Barnett Newman</td>\n",
       "      <td>1963.0</td>\n",
       "      <td>abstract</td>\n",
       "      <td>6049.0</td>\n",
       "      <td>8206.0</td>\n",
       "      <td>1135960.0</td>\n",
       "      <td>wikiart</td>\n",
       "      <td>Color Field Painting</td>\n",
       "      <td>Black Fire I</td>\n",
       "      <td>train_only</td>\n",
       "      <td>True</td>\n",
       "      <td>63861.jpg</td>\n",
       "      <td>49638094.0</td>\n",
       "    </tr>\n",
       "    <tr>\n",
       "      <th>10</th>\n",
       "      <td>Hiroshige</td>\n",
       "      <td>1844</td>\n",
       "      <td>bird-and-flower painting</td>\n",
       "      <td>5492.0</td>\n",
       "      <td>8283.0</td>\n",
       "      <td>10736273.0</td>\n",
       "      <td>wikiart</td>\n",
       "      <td>Ukiyo-e</td>\n",
       "      <td>Camellia and Bush Warbler</td>\n",
       "      <td>train_and_test</td>\n",
       "      <td>True</td>\n",
       "      <td>53180.jpg</td>\n",
       "      <td>45490236.0</td>\n",
       "    </tr>\n",
       "    <tr>\n",
       "      <th>11</th>\n",
       "      <td>Wolfgang Paalen</td>\n",
       "      <td>1937.0</td>\n",
       "      <td>landscape</td>\n",
       "      <td>5331.0</td>\n",
       "      <td>8351.0</td>\n",
       "      <td>1407667.0</td>\n",
       "      <td>wikiart</td>\n",
       "      <td>Surrealism</td>\n",
       "      <td>Forbidden Land</td>\n",
       "      <td>train_only</td>\n",
       "      <td>True</td>\n",
       "      <td>70944.jpg</td>\n",
       "      <td>44519181.0</td>\n",
       "    </tr>\n",
       "    <tr>\n",
       "      <th>...</th>\n",
       "      <td>...</td>\n",
       "      <td>...</td>\n",
       "      <td>...</td>\n",
       "      <td>...</td>\n",
       "      <td>...</td>\n",
       "      <td>...</td>\n",
       "      <td>...</td>\n",
       "      <td>...</td>\n",
       "      <td>...</td>\n",
       "      <td>...</td>\n",
       "      <td>...</td>\n",
       "      <td>...</td>\n",
       "      <td>...</td>\n",
       "    </tr>\n",
       "    <tr>\n",
       "      <th>103241</th>\n",
       "      <td>Tihamer Gyarmathy</td>\n",
       "      <td>1957.0</td>\n",
       "      <td>abstract</td>\n",
       "      <td>316.0</td>\n",
       "      <td>475.0</td>\n",
       "      <td>89274.0</td>\n",
       "      <td>wikiart</td>\n",
       "      <td>Abstract Art</td>\n",
       "      <td>Structures and Signs</td>\n",
       "      <td>train_and_test</td>\n",
       "      <td>True</td>\n",
       "      <td>36690.jpg</td>\n",
       "      <td>150100.0</td>\n",
       "    </tr>\n",
       "    <tr>\n",
       "      <th>103244</th>\n",
       "      <td>Anne Ryan</td>\n",
       "      <td>1954.0</td>\n",
       "      <td>NaN</td>\n",
       "      <td>534.0</td>\n",
       "      <td>281.0</td>\n",
       "      <td>54145.0</td>\n",
       "      <td>wikiart</td>\n",
       "      <td>Abstract Expressionism</td>\n",
       "      <td>Number 547</td>\n",
       "      <td>train_only</td>\n",
       "      <td>True</td>\n",
       "      <td>23862.jpg</td>\n",
       "      <td>150054.0</td>\n",
       "    </tr>\n",
       "    <tr>\n",
       "      <th>103245</th>\n",
       "      <td>Jackson Pollock</td>\n",
       "      <td>1948.0</td>\n",
       "      <td>abstract</td>\n",
       "      <td>682.0</td>\n",
       "      <td>220.0</td>\n",
       "      <td>96405.0</td>\n",
       "      <td>wikiart</td>\n",
       "      <td>Action painting</td>\n",
       "      <td>Number 13A (Arabesque)</td>\n",
       "      <td>train_and_test</td>\n",
       "      <td>True</td>\n",
       "      <td>25525.jpg</td>\n",
       "      <td>150040.0</td>\n",
       "    </tr>\n",
       "    <tr>\n",
       "      <th>103246</th>\n",
       "      <td>Bernardo Strozzi</td>\n",
       "      <td>NaN</td>\n",
       "      <td>religious painting</td>\n",
       "      <td>329.0</td>\n",
       "      <td>456.0</td>\n",
       "      <td>127594.0</td>\n",
       "      <td>wikiart</td>\n",
       "      <td>Baroque</td>\n",
       "      <td>St. Francis of Assisi</td>\n",
       "      <td>train_only</td>\n",
       "      <td>True</td>\n",
       "      <td>47038.jpg</td>\n",
       "      <td>150024.0</td>\n",
       "    </tr>\n",
       "    <tr>\n",
       "      <th>103249</th>\n",
       "      <td>Amadeo de Souza-Cardoso</td>\n",
       "      <td>1913</td>\n",
       "      <td>landscape</td>\n",
       "      <td>293.0</td>\n",
       "      <td>512.0</td>\n",
       "      <td>77577.0</td>\n",
       "      <td>wikiart</td>\n",
       "      <td>Cubism</td>\n",
       "      <td>House Manhufe</td>\n",
       "      <td>train_only</td>\n",
       "      <td>True</td>\n",
       "      <td>36564.jpg</td>\n",
       "      <td>150016.0</td>\n",
       "    </tr>\n",
       "  </tbody>\n",
       "</table>\n",
       "<p>78666 rows × 13 columns</p>\n",
       "</div>"
      ],
      "text/plain": [
       "                         artist    date  ... new_filename      pixels\n",
       "5                 Tosa Mitsuoki     NaN  ...    29855.jpg  76584000.0\n",
       "6                Barnett Newman     NaN  ...    62252.jpg  63460800.0\n",
       "8                Barnett Newman  1963.0  ...    63861.jpg  49638094.0\n",
       "10                    Hiroshige    1844  ...    53180.jpg  45490236.0\n",
       "11              Wolfgang Paalen  1937.0  ...    70944.jpg  44519181.0\n",
       "...                         ...     ...  ...          ...         ...\n",
       "103241        Tihamer Gyarmathy  1957.0  ...    36690.jpg    150100.0\n",
       "103244                Anne Ryan  1954.0  ...    23862.jpg    150054.0\n",
       "103245          Jackson Pollock  1948.0  ...    25525.jpg    150040.0\n",
       "103246         Bernardo Strozzi     NaN  ...    47038.jpg    150024.0\n",
       "103249  Amadeo de Souza-Cardoso    1913  ...    36564.jpg    150016.0\n",
       "\n",
       "[78666 rows x 13 columns]"
      ]
     },
     "execution_count": 102,
     "metadata": {
      "tags": []
     },
     "output_type": "execute_result"
    }
   ],
   "source": [
    "df"
   ]
  },
  {
   "cell_type": "code",
   "execution_count": null,
   "metadata": {
    "colab": {
     "base_uri": "https://localhost:8080/"
    },
    "id": "v9rGh7X7LNk_",
    "outputId": "e27ac4b5-c155-416a-e394-e675f3a0fb81"
   },
   "outputs": [
    {
     "data": {
      "text/plain": [
       "Impressionism                   8220\n",
       "Realism                         8112\n",
       "Romanticism                     7041\n",
       "Expressionism                   5325\n",
       "Post-Impressionism              4527\n",
       "Art Nouveau (Modern)            3779\n",
       "Baroque                         3254\n",
       "Surrealism                      3133\n",
       "Symbolism                       2626\n",
       "Rococo                          2101\n",
       "Northern Renaissance            1824\n",
       "Naïve Art (Primitivism)         1776\n",
       "Neoclassicism                   1622\n",
       "Abstract Expressionism          1546\n",
       "Cubism                          1316\n",
       "Ukiyo-e                         1137\n",
       "Early Renaissance               1052\n",
       "High Renaissance                1050\n",
       "Mannerism (Late Renaissance)    1025\n",
       "Art Informel                     987\n",
       "Name: style, dtype: int64"
      ]
     },
     "execution_count": 56,
     "metadata": {
      "tags": []
     },
     "output_type": "execute_result"
    }
   ],
   "source": [
    "styles=df['style'].value_counts()           #Series holding number of images in each style class\n",
    "styles.head(num_classes)                    #Look at only top (20) classes and their counts"
   ]
  },
  {
   "cell_type": "code",
   "execution_count": null,
   "metadata": {
    "id": "TN4MQKbdILxC"
   },
   "outputs": [],
   "source": [
    "stylestest=dftest['style'].isin(styles.head(num_classes).index)  #Create filter for rows with style in top 20\n",
    "dftest=dftest[stylestest]                                       #Filter test dataframe to only hold images from selected classes"
   ]
  },
  {
   "cell_type": "code",
   "execution_count": null,
   "metadata": {
    "colab": {
     "base_uri": "https://localhost:8080/",
     "height": 603
    },
    "id": "Nq6rwRmoLz63",
    "outputId": "dec420fa-ef86-4769-96f2-3544fe7a7c7e"
   },
   "outputs": [
    {
     "data": {
      "text/html": [
       "<div>\n",
       "<style scoped>\n",
       "    .dataframe tbody tr th:only-of-type {\n",
       "        vertical-align: middle;\n",
       "    }\n",
       "\n",
       "    .dataframe tbody tr th {\n",
       "        vertical-align: top;\n",
       "    }\n",
       "\n",
       "    .dataframe thead th {\n",
       "        text-align: right;\n",
       "    }\n",
       "</style>\n",
       "<table border=\"1\" class=\"dataframe\">\n",
       "  <thead>\n",
       "    <tr style=\"text-align: right;\">\n",
       "      <th></th>\n",
       "      <th></th>\n",
       "      <th>artist</th>\n",
       "      <th>date</th>\n",
       "      <th>genre</th>\n",
       "      <th>pixelsx</th>\n",
       "      <th>pixelsy</th>\n",
       "      <th>size_bytes</th>\n",
       "      <th>source</th>\n",
       "      <th>style</th>\n",
       "      <th>title</th>\n",
       "      <th>artist_group</th>\n",
       "      <th>in_train</th>\n",
       "      <th>new_filename</th>\n",
       "      <th>pixels</th>\n",
       "    </tr>\n",
       "    <tr>\n",
       "      <th>style</th>\n",
       "      <th></th>\n",
       "      <th></th>\n",
       "      <th></th>\n",
       "      <th></th>\n",
       "      <th></th>\n",
       "      <th></th>\n",
       "      <th></th>\n",
       "      <th></th>\n",
       "      <th></th>\n",
       "      <th></th>\n",
       "      <th></th>\n",
       "      <th></th>\n",
       "      <th></th>\n",
       "      <th></th>\n",
       "    </tr>\n",
       "  </thead>\n",
       "  <tbody>\n",
       "    <tr>\n",
       "      <th rowspan=\"5\" valign=\"top\">Abstract Expressionism</th>\n",
       "      <th>29649</th>\n",
       "      <td>Horia Bernea</td>\n",
       "      <td>1976.0</td>\n",
       "      <td>figurative</td>\n",
       "      <td>998.0</td>\n",
       "      <td>1000.0</td>\n",
       "      <td>268824.0</td>\n",
       "      <td>wikiart</td>\n",
       "      <td>Abstract Expressionism</td>\n",
       "      <td>Praporele florilor</td>\n",
       "      <td>train_and_test</td>\n",
       "      <td>True</td>\n",
       "      <td>101352.jpg</td>\n",
       "      <td>998000.0</td>\n",
       "    </tr>\n",
       "    <tr>\n",
       "      <th>91239</th>\n",
       "      <td>Sam Francis</td>\n",
       "      <td>1963</td>\n",
       "      <td>abstract</td>\n",
       "      <td>419.0</td>\n",
       "      <td>570.0</td>\n",
       "      <td>251341.0</td>\n",
       "      <td>wikiart</td>\n",
       "      <td>Abstract Expressionism</td>\n",
       "      <td>Untitled (from Pasadena Box) (Lembark L61)</td>\n",
       "      <td>train_and_test</td>\n",
       "      <td>True</td>\n",
       "      <td>49278.jpg</td>\n",
       "      <td>238830.0</td>\n",
       "    </tr>\n",
       "    <tr>\n",
       "      <th>84555</th>\n",
       "      <td>Jackson Pollock</td>\n",
       "      <td>1951.0</td>\n",
       "      <td>abstract</td>\n",
       "      <td>730.0</td>\n",
       "      <td>391.0</td>\n",
       "      <td>74171.0</td>\n",
       "      <td>wikiart</td>\n",
       "      <td>Abstract Expressionism</td>\n",
       "      <td>Number 14</td>\n",
       "      <td>train_and_test</td>\n",
       "      <td>True</td>\n",
       "      <td>42102.jpg</td>\n",
       "      <td>285430.0</td>\n",
       "    </tr>\n",
       "    <tr>\n",
       "      <th>704</th>\n",
       "      <td>Eva Hesse</td>\n",
       "      <td>1960</td>\n",
       "      <td>figurative</td>\n",
       "      <td>3340.0</td>\n",
       "      <td>3348.0</td>\n",
       "      <td>2752845.0</td>\n",
       "      <td>wikiart</td>\n",
       "      <td>Abstract Expressionism</td>\n",
       "      <td>Spectres</td>\n",
       "      <td>train_only</td>\n",
       "      <td>True</td>\n",
       "      <td>43015.jpg</td>\n",
       "      <td>11182320.0</td>\n",
       "    </tr>\n",
       "    <tr>\n",
       "      <th>88051</th>\n",
       "      <td>Clarence Holbrook Carter</td>\n",
       "      <td>1969.0</td>\n",
       "      <td>abstract</td>\n",
       "      <td>434.0</td>\n",
       "      <td>600.0</td>\n",
       "      <td>17529.0</td>\n",
       "      <td>wikiart</td>\n",
       "      <td>Abstract Expressionism</td>\n",
       "      <td>Green Mandala</td>\n",
       "      <td>train_and_test</td>\n",
       "      <td>True</td>\n",
       "      <td>50953.jpg</td>\n",
       "      <td>260400.0</td>\n",
       "    </tr>\n",
       "    <tr>\n",
       "      <th>...</th>\n",
       "      <th>...</th>\n",
       "      <td>...</td>\n",
       "      <td>...</td>\n",
       "      <td>...</td>\n",
       "      <td>...</td>\n",
       "      <td>...</td>\n",
       "      <td>...</td>\n",
       "      <td>...</td>\n",
       "      <td>...</td>\n",
       "      <td>...</td>\n",
       "      <td>...</td>\n",
       "      <td>...</td>\n",
       "      <td>...</td>\n",
       "      <td>...</td>\n",
       "    </tr>\n",
       "    <tr>\n",
       "      <th rowspan=\"5\" valign=\"top\">Ukiyo-e</th>\n",
       "      <th>3444</th>\n",
       "      <td>Katsushika Hokusai</td>\n",
       "      <td>c.1833</td>\n",
       "      <td>genre painting</td>\n",
       "      <td>2781.0</td>\n",
       "      <td>2030.0</td>\n",
       "      <td>1703639.0</td>\n",
       "      <td>wikiart</td>\n",
       "      <td>Ukiyo-e</td>\n",
       "      <td>Fishing by Torchlight in Kai Province, from Oc...</td>\n",
       "      <td>train_and_test</td>\n",
       "      <td>True</td>\n",
       "      <td>43395.jpg</td>\n",
       "      <td>5645430.0</td>\n",
       "    </tr>\n",
       "    <tr>\n",
       "      <th>48701</th>\n",
       "      <td>Ogata Gekko</td>\n",
       "      <td>1897.0</td>\n",
       "      <td>mythological painting</td>\n",
       "      <td>704.0</td>\n",
       "      <td>1024.0</td>\n",
       "      <td>158394.0</td>\n",
       "      <td>wikipedia</td>\n",
       "      <td>Ukiyo-e</td>\n",
       "      <td>Dragon rising to the heavens</td>\n",
       "      <td>train_and_test</td>\n",
       "      <td>True</td>\n",
       "      <td>95323.jpg</td>\n",
       "      <td>720896.0</td>\n",
       "    </tr>\n",
       "    <tr>\n",
       "      <th>10035</th>\n",
       "      <td>Keisai Eisen</td>\n",
       "      <td>1830.0</td>\n",
       "      <td>genre painting</td>\n",
       "      <td>2000.0</td>\n",
       "      <td>1459.0</td>\n",
       "      <td>565380.0</td>\n",
       "      <td>wikiart</td>\n",
       "      <td>Ukiyo-e</td>\n",
       "      <td>Fishing for Whitebait in the Bay off Tsukuda</td>\n",
       "      <td>train_only</td>\n",
       "      <td>True</td>\n",
       "      <td>77062.jpg</td>\n",
       "      <td>2918000.0</td>\n",
       "    </tr>\n",
       "    <tr>\n",
       "      <th>73968</th>\n",
       "      <td>Katsushika Hokusai</td>\n",
       "      <td>NaN</td>\n",
       "      <td>genre painting</td>\n",
       "      <td>768.0</td>\n",
       "      <td>524.0</td>\n",
       "      <td>116536.0</td>\n",
       "      <td>wikiart</td>\n",
       "      <td>Ukiyo-e</td>\n",
       "      <td>Fuji from the Platform of Sasayedo</td>\n",
       "      <td>train_and_test</td>\n",
       "      <td>True</td>\n",
       "      <td>93940.jpg</td>\n",
       "      <td>402432.0</td>\n",
       "    </tr>\n",
       "    <tr>\n",
       "      <th>62811</th>\n",
       "      <td>Toyota Hokkei</td>\n",
       "      <td>1825.0</td>\n",
       "      <td>still life</td>\n",
       "      <td>674.0</td>\n",
       "      <td>768.0</td>\n",
       "      <td>80257.0</td>\n",
       "      <td>wikiart</td>\n",
       "      <td>Ukiyo-e</td>\n",
       "      <td>The Theater Outing</td>\n",
       "      <td>train_only</td>\n",
       "      <td>True</td>\n",
       "      <td>17504.jpg</td>\n",
       "      <td>517632.0</td>\n",
       "    </tr>\n",
       "  </tbody>\n",
       "</table>\n",
       "<p>15000 rows × 13 columns</p>\n",
       "</div>"
      ],
      "text/plain": [
       "                                                artist  ...      pixels\n",
       "style                                                   ...            \n",
       "Abstract Expressionism 29649              Horia Bernea  ...    998000.0\n",
       "                       91239               Sam Francis  ...    238830.0\n",
       "                       84555           Jackson Pollock  ...    285430.0\n",
       "                       704                   Eva Hesse  ...  11182320.0\n",
       "                       88051  Clarence Holbrook Carter  ...    260400.0\n",
       "...                                                ...  ...         ...\n",
       "Ukiyo-e                3444         Katsushika Hokusai  ...   5645430.0\n",
       "                       48701               Ogata Gekko  ...    720896.0\n",
       "                       10035              Keisai Eisen  ...   2918000.0\n",
       "                       73968        Katsushika Hokusai  ...    402432.0\n",
       "                       62811             Toyota Hokkei  ...    517632.0\n",
       "\n",
       "[15000 rows x 13 columns]"
      ]
     },
     "execution_count": 57,
     "metadata": {
      "tags": []
     },
     "output_type": "execute_result"
    }
   ],
   "source": [
    "styles=df['style'].isin(styles.head(num_classes).index)  #Create filter for rows with style in top 20\n",
    "samples=df[styles]                                       #Filter test dataframe to only hold images from selected classes\n",
    "samples=samples.groupby('style').apply(lambda x: x.loc[np.random.choice(x.index, SampleSize, False),:])    #group images of same style, randomly selecting SampleSize number of them for each class\n",
    "samples"
   ]
  },
  {
   "cell_type": "code",
   "execution_count": null,
   "metadata": {
    "id": "C61B58Y7NtPj"
   },
   "outputs": [],
   "source": [
    "samples.reset_index(drop=True, inplace=True)         #Remove double index groupby category\n",
    "from sklearn.utils import shuffle                     \n",
    "samples=shuffle(samples)                             #Shuffle various style images (currently segregrated by style) for training"
   ]
  },
  {
   "cell_type": "markdown",
   "metadata": {},
   "source": [
    "### Model fitting"
   ]
  },
  {
   "cell_type": "code",
   "execution_count": null,
   "metadata": {
    "id": "IxntmUH9PeKp"
   },
   "outputs": [],
   "source": [
    "from tensorflow.keras.models import Sequential         #Load various layer types for CNN\n",
    "from tensorflow.keras.layers import Conv2D\n",
    "from tensorflow.keras.layers import MaxPooling2D\n",
    "from tensorflow.keras.layers import Flatten\n",
    "from tensorflow.keras.layers import Dense\n",
    "from tensorflow.keras.layers import Dropout\n",
    "from tensorflow.keras.preprocessing.image import ImageDataGenerator   #Image Generator for loading images in batches\n",
    "from PIL import ImageFile\n",
    "ImageFile.LOAD_TRUNCATED_IMAGES = True                    #Prevent reading error for images which don't have correct size\n",
    "from PIL import Image\n",
    "Image.MAX_IMAGE_PIXELS = None                              #Prevent decompression bomb error for large images"
   ]
  },
  {
   "cell_type": "markdown",
   "metadata": {},
   "source": [
    "Define image generators"
   ]
  },
  {
   "cell_type": "code",
   "execution_count": null,
   "metadata": {
    "colab": {
     "base_uri": "https://localhost:8080/"
    },
    "id": "H36NlmuGPgwk",
    "outputId": "c7cdbe3d-0e22-4819-ee88-dea955799839"
   },
   "outputs": [
    {
     "name": "stdout",
     "output_type": "stream",
     "text": [
      "Found 7500 validated image filenames belonging to 20 classes.\n",
      "Found 2500 validated image filenames belonging to 20 classes.\n"
     ]
    }
   ],
   "source": [
    "trainpath = 'train'              #Training images folder\n",
    "\n",
    "train_limit=int(len(samples)*0.75)         #Select first 75% of filtered and shuffled rows of training dataframe as training set, 25% will be for validation  \n",
    "\n",
    "valid_gen=ImageDataGenerator(rescale=1./255.)   #rescaling images for validation set\n",
    "\n",
    "train_gen=ImageDataGenerator(rescale=1./255.,rotation_range = 30,        #rescaling and augmentation of training images\n",
    "                                   shear_range=0.2,\n",
    "                                   zoom_range=0.2,\n",
    "                                   horizontal_flip=True)\n",
    "\n",
    "height=224             # dimensions to reseize image to, required for certain models, small but preserving reasonable amount of information and commonly used in literature\n",
    "width=224\n",
    "\n",
    "\n",
    "train_generator=train_gen.flow_from_dataframe(\n",
    "dataframe=samples[:train_limit],\n",
    "directory=trainpath,\n",
    "x_col=\"new_filename\",           #image file names read in from database column and image fetched from appropriate directory\n",
    "y_col=\"style\",                 #target variable\n",
    "#subset=\"training\",\n",
    "color_mode='rgb',\n",
    "batch_size=40,\n",
    "seed=42,\n",
    "shuffle=True,\n",
    "class_mode=\"categorical\",\n",
    "target_size=(height,width))\n",
    "\n",
    "validation_generator=valid_gen.flow_from_dataframe(     #similar for validation image dataset generator\n",
    "dataframe=samples[train_limit:],\n",
    "directory=trainpath,\n",
    "x_col=\"new_filename\",\n",
    "y_col=\"style\",\n",
    "#subset=\"validation\",\n",
    "color_mode='rgb',\n",
    "batch_size=40,\n",
    "seed=42,\n",
    "shuffle=True,\n",
    "class_mode=\"categorical\",\n",
    "target_size=(height,width))"
   ]
  },
  {
   "cell_type": "markdown",
   "metadata": {},
   "source": [
    "Xception pre-trained model fitting"
   ]
  },
  {
   "cell_type": "code",
   "execution_count": null,
   "metadata": {
    "colab": {
     "base_uri": "https://localhost:8080/"
    },
    "id": "LVameEUT_jwX",
    "outputId": "00042b85-a07d-41e3-bde4-75c1b5862494"
   },
   "outputs": [
    {
     "name": "stdout",
     "output_type": "stream",
     "text": [
      "188/188 [==============================] - 427s 2s/step - loss: 6.0727 - accuracy: 0.1083 - val_loss: 2.7421 - val_accuracy: 0.1524\n"
     ]
    },
    {
     "data": {
      "text/plain": [
       "<tensorflow.python.keras.callbacks.History at 0x7f3872634f10>"
      ]
     },
     "execution_count": 27,
     "metadata": {
      "tags": []
     },
     "output_type": "execute_result"
    }
   ],
   "source": [
    "from tensorflow.keras.models import Model\n",
    "from tensorflow.keras.applications import Xception \n",
    "\n",
    "model3 = Xception (weights='imagenet',            #keep weights optimized for imagenet dataset\n",
    "                   include_top=False,              #remove last layer\n",
    "                   input_shape=(height,width,3))\n",
    "\n",
    "for layer in model3.layers:                              #Freeze weights\n",
    "    layer.trainable = False\n",
    "\n",
    "# Add additional layers at end\n",
    "x = model3.output \n",
    "x = Flatten()(x) \n",
    "x = Dense(300, activation='relu')(x)      #Add activation layers to bring down nodes per layer in stepwise fashion\n",
    "x = Dense(100, activation='relu')(x)\n",
    "output = Dense(num_classes, activation='softmax')(x)      #softmax activation to ensure multiple classes probabilities add upto 1\n",
    "\n",
    "model3 = Model(inputs=model3.input, \n",
    "              outputs=output)\n",
    "\n",
    "model3.compile(optimizer='Adam',                          #Use ADAM optimizer\n",
    "              loss='categorical_crossentropy',                #loss function is categorical crossentropy\n",
    "              metrics=['accuracy'])\n",
    "\n",
    "\n",
    "model3.fit(train_generator,                              #test if model works\n",
    "          epochs=1,\n",
    "          validation_data=validation_generator)"
   ]
  },
  {
   "cell_type": "code",
   "execution_count": null,
   "metadata": {
    "colab": {
     "base_uri": "https://localhost:8080/"
    },
    "id": "7_4hMLtWOQEn",
    "outputId": "5ac4bd44-d559-4f7b-e49b-5595fa02ee0f"
   },
   "outputs": [
    {
     "name": "stdout",
     "output_type": "stream",
     "text": [
      "Epoch 1/5\n",
      "188/188 [==============================] - 396s 2s/step - loss: 2.6755 - accuracy: 0.1780 - val_loss: 2.6414 - val_accuracy: 0.1716\n",
      "Epoch 2/5\n",
      "188/188 [==============================] - 391s 2s/step - loss: 2.4938 - accuracy: 0.2207 - val_loss: 2.4662 - val_accuracy: 0.2412\n",
      "Epoch 3/5\n",
      "188/188 [==============================] - 389s 2s/step - loss: 2.3082 - accuracy: 0.2653 - val_loss: 2.3493 - val_accuracy: 0.2644\n",
      "Epoch 4/5\n",
      "188/188 [==============================] - 389s 2s/step - loss: 2.1976 - accuracy: 0.2927 - val_loss: 2.3357 - val_accuracy: 0.2620\n",
      "Epoch 5/5\n",
      "188/188 [==============================] - 396s 2s/step - loss: 2.1056 - accuracy: 0.3177 - val_loss: 2.2892 - val_accuracy: 0.2928\n"
     ]
    },
    {
     "data": {
      "text/plain": [
       "<tensorflow.python.keras.callbacks.History at 0x7f38927e3550>"
      ]
     },
     "execution_count": 28,
     "metadata": {
      "tags": []
     },
     "output_type": "execute_result"
    }
   ],
   "source": [
    "model3.fit(train_generator,                   #Continue fitting for a few epochs to see performance\n",
    "          epochs=6,\n",
    "          callbacks=[early_stop],\n",
    "          validation_data=validation_generator)"
   ]
  },
  {
   "cell_type": "code",
   "execution_count": null,
   "metadata": {
    "colab": {
     "base_uri": "https://localhost:8080/"
    },
    "id": "p8C7kLYWi_xP",
    "outputId": "c636d61e-a395-49c3-cc36-53922bd5c9d2"
   },
   "outputs": [
    {
     "name": "stdout",
     "output_type": "stream",
     "text": [
      "Epoch 1/6\n",
      "188/188 [==============================] - 428s 2s/step - loss: 1.9965 - accuracy: 0.3461 - val_loss: 2.2141 - val_accuracy: 0.2940\n",
      "Epoch 2/6\n",
      "188/188 [==============================] - 425s 2s/step - loss: 1.9566 - accuracy: 0.3581 - val_loss: 2.2224 - val_accuracy: 0.3068\n",
      "Epoch 3/6\n",
      "188/188 [==============================] - 423s 2s/step - loss: 1.8956 - accuracy: 0.3789 - val_loss: 2.3099 - val_accuracy: 0.3012\n",
      "Epoch 00003: early stopping\n"
     ]
    },
    {
     "data": {
      "text/plain": [
       "<tensorflow.python.keras.callbacks.History at 0x7f361c7c1110>"
      ]
     },
     "execution_count": 32,
     "metadata": {
      "tags": []
     },
     "output_type": "execute_result"
    }
   ],
   "source": [
    "model3.fit(train_generator,                     #Further continue fitting\n",
    "          epochs=6,\n",
    "          callbacks=[early_stop],\n",
    "          validation_data=validation_generator)"
   ]
  },
  {
   "cell_type": "markdown",
   "metadata": {},
   "source": [
    "Model stops due to callback as validation loss stops decreasing over two epochs. The model seems to stall at around 30% accuracy on validation set. Next attempt unfreezing later layers to improve accuracy. "
   ]
  },
  {
   "cell_type": "code",
   "execution_count": null,
   "metadata": {
    "id": "OWRTZiXgoPMZ"
   },
   "outputs": [],
   "source": [
    "model3.summary()  #output was removed due to long lengthm making working with notebook inconveniant (see exaple in Artist Classification Notebook), it displayed all layers allowing identification of those to be frozen"
   ]
  },
  {
   "cell_type": "markdown",
   "metadata": {},
   "source": [
    "Unfreezing roughly last 20% of model:"
   ]
  },
  {
   "cell_type": "code",
   "execution_count": null,
   "metadata": {
    "colab": {
     "base_uri": "https://localhost:8080/"
    },
    "id": "IrIGN8XGoX_R",
    "outputId": "cda53464-a473-49e4-ed1b-6db59999df48"
   },
   "outputs": [
    {
     "data": {
      "text/plain": [
       "27.200000000000003"
      ]
     },
     "execution_count": 36,
     "metadata": {
      "tags": []
     },
     "output_type": "execute_result"
    }
   ],
   "source": [
    "len(model3.layers)*0.20"
   ]
  },
  {
   "cell_type": "markdown",
   "metadata": {
    "id": "V8WsmTyloyWm"
   },
   "source": [
    "So, unfreeze last 30 layers (rounding to include blocks, unfreezing upto block12"
   ]
  },
  {
   "cell_type": "code",
   "execution_count": null,
   "metadata": {
    "colab": {
     "base_uri": "https://localhost:8080/"
    },
    "id": "JjxM25_0x8l-",
    "outputId": "fb602ca9-f4de-4418-9d64-5e02f857c738"
   },
   "outputs": [
    {
     "name": "stdout",
     "output_type": "stream",
     "text": [
      "Epoch 1/6\n",
      "188/188 [==============================] - 389s 2s/step - loss: 2.5620 - accuracy: 0.1953 - val_loss: 3.2112 - val_accuracy: 0.2320\n",
      "Epoch 2/6\n",
      "188/188 [==============================] - 380s 2s/step - loss: 2.1552 - accuracy: 0.2907 - val_loss: 2.7799 - val_accuracy: 0.2112\n",
      "Epoch 3/6\n",
      "188/188 [==============================] - 379s 2s/step - loss: 2.0049 - accuracy: 0.3332 - val_loss: 2.0851 - val_accuracy: 0.3156\n",
      "Epoch 4/6\n",
      "188/188 [==============================] - 376s 2s/step - loss: 1.8593 - accuracy: 0.3784 - val_loss: 2.3528 - val_accuracy: 0.3184\n",
      "Epoch 5/6\n",
      "188/188 [==============================] - 379s 2s/step - loss: 1.7584 - accuracy: 0.4117 - val_loss: 2.8499 - val_accuracy: 0.2572\n",
      "Epoch 00005: early stopping\n"
     ]
    },
    {
     "data": {
      "text/plain": [
       "<tensorflow.python.keras.callbacks.History at 0x7f3617fa2a50>"
      ]
     },
     "execution_count": 42,
     "metadata": {
      "tags": []
     },
     "output_type": "execute_result"
    }
   ],
   "source": [
    "from tensorflow.keras import layers\n",
    "\n",
    "for layer in xmodel.layers:\n",
    "    layer.trainable = False\n",
    "\n",
    "for layer in xmodel.layers[-30:]:\n",
    "        if not isinstance(layer, layers.BatchNormalization):          #If batch normalization layer, ignore unfreezing as they can destroy values learnt so far from other layers and are not considered retrainable\n",
    "            layer.trainable = True\n",
    "xmodel.fit(train_generator,\n",
    "          epochs=6,\n",
    "          callbacks=[early_stop],\n",
    "          validation_data=validation_generator)"
   ]
  },
  {
   "cell_type": "markdown",
   "metadata": {},
   "source": [
    "As can be seen, unfreezing did not seem to help, quickly reaching early stop with swings in validation loss. While validation accuracy did go up by over a percent, it also dropped eventually and overall does not seem significant.\n",
    "\n",
    "Next, trying ResNet50V2 again (see misc. notebook for initial attempts), but with different final layers (no flatten and dense ReLu activation layers, instead using pooling to reduce nodes). "
   ]
  },
  {
   "cell_type": "code",
   "execution_count": null,
   "metadata": {
    "colab": {
     "base_uri": "https://localhost:8080/"
    },
    "id": "OmJMMsHKC0Zn",
    "outputId": "04f44c9d-6bd2-49e7-d84c-7deebdd0cd72"
   },
   "outputs": [
    {
     "name": "stdout",
     "output_type": "stream",
     "text": [
      "Epoch 1/3\n",
      "188/188 [==============================] - 109s 561ms/step - loss: 2.8792 - accuracy: 0.1653 - val_loss: 2.2530 - val_accuracy: 0.3076\n",
      "Epoch 2/3\n",
      "188/188 [==============================] - 104s 552ms/step - loss: 2.0454 - accuracy: 0.3634 - val_loss: 2.0992 - val_accuracy: 0.3436\n",
      "Epoch 3/3\n",
      "188/188 [==============================] - 106s 563ms/step - loss: 1.8378 - accuracy: 0.4229 - val_loss: 2.1032 - val_accuracy: 0.3556\n"
     ]
    },
    {
     "data": {
      "text/plain": [
       "<tensorflow.python.keras.callbacks.History at 0x7f345f49c290>"
      ]
     },
     "execution_count": 101,
     "metadata": {
      "tags": []
     },
     "output_type": "execute_result"
    }
   ],
   "source": [
    "from tensorflow.keras.models import Model\n",
    "from tensorflow.keras.applications import ResNet50V2\n",
    "from tensorflow.keras.optimizers import Adam\n",
    "from tensorflow.keras.callbacks import EarlyStopping\n",
    "from tensorflow.keras.layers import GlobalAveragePooling2D\n",
    "from tensorflow.keras.layers import AveragePooling2D\n",
    "\n",
    "model4 = ResNet50V2(weights='imagenet',\n",
    "                   include_top=False,\n",
    "                   input_shape=(height,width,3))\n",
    "\n",
    "for layer in model4.layers:\n",
    "    layer.trainable = False\n",
    "\n",
    "\n",
    "\n",
    "    # Add our own layers to the end of the network\n",
    "x = model4.output \n",
    "x=AveragePooling2D()(x)\n",
    "x=GlobalAveragePooling2D()(x)\n",
    "#x = Flatten()(x) \n",
    "##x = Dense(1000, activation='relu')(x)\n",
    "#x = Dense(100, activation='relu')(x)\n",
    "output = Dense(num_classes, activation='softmax')(x)\n",
    "\n",
    "model4 = Model(inputs=model4.input, \n",
    "              outputs=output)\n",
    "\n",
    "optimizer = Adam()\n",
    "\n",
    "early_stop = EarlyStopping(monitor='val_loss', \n",
    "                           patience=2, \n",
    "                           mode='min', \n",
    "                           verbose=1)\n",
    "\n",
    "model4.compile(optimizer=optimizer,\n",
    "              loss='categorical_crossentropy',\n",
    "              metrics=['accuracy'])\n",
    "\n",
    "\n",
    "model4.fit(train_generator,\n",
    "          epochs=3,\n",
    "          callbacks=[early_stop],\n",
    "          validation_data=validation_generator)"
   ]
  },
  {
   "cell_type": "markdown",
   "metadata": {},
   "source": [
    "There is an immediate improvement compared to Xception and earlier ResNet trials, so continueing fitting:"
   ]
  },
  {
   "cell_type": "code",
   "execution_count": null,
   "metadata": {
    "colab": {
     "base_uri": "https://localhost:8080/"
    },
    "id": "pcO9hxQ8L8UD",
    "outputId": "b38415f5-9452-4ba4-ffae-d11c4e5c38c0"
   },
   "outputs": [
    {
     "name": "stdout",
     "output_type": "stream",
     "text": [
      "Epoch 1/5\n",
      "188/188 [==============================] - 106s 563ms/step - loss: 1.7540 - accuracy: 0.4476 - val_loss: 2.0867 - val_accuracy: 0.3708\n",
      "Epoch 2/5\n",
      "188/188 [==============================] - 106s 566ms/step - loss: 1.6709 - accuracy: 0.4640 - val_loss: 2.0691 - val_accuracy: 0.3772\n",
      "Epoch 3/5\n",
      "188/188 [==============================] - 106s 563ms/step - loss: 1.6152 - accuracy: 0.4843 - val_loss: 2.0760 - val_accuracy: 0.3724\n",
      "Epoch 4/5\n",
      "188/188 [==============================] - 106s 563ms/step - loss: 1.5448 - accuracy: 0.5015 - val_loss: 2.0460 - val_accuracy: 0.3828\n",
      "Epoch 5/5\n",
      "188/188 [==============================] - 106s 563ms/step - loss: 1.5191 - accuracy: 0.5144 - val_loss: 2.0551 - val_accuracy: 0.3876\n"
     ]
    },
    {
     "data": {
      "text/plain": [
       "<tensorflow.python.keras.callbacks.History at 0x7f34605b3850>"
      ]
     },
     "execution_count": 103,
     "metadata": {
      "tags": []
     },
     "output_type": "execute_result"
    }
   ],
   "source": [
    "early_stop = EarlyStopping(monitor='val_loss', \n",
    "                           patience=3, \n",
    "                           mode='min', \n",
    "                           verbose=1)\n",
    "model4.fit(train_generator,\n",
    "          epochs=5,\n",
    "          callbacks=[early_stop],\n",
    "          validation_data=validation_generator)"
   ]
  },
  {
   "cell_type": "code",
   "execution_count": null,
   "metadata": {
    "colab": {
     "base_uri": "https://localhost:8080/"
    },
    "id": "HaKOoY2_OaxF",
    "outputId": "dec697df-787e-4d8d-9c59-a13f8b0c3663"
   },
   "outputs": [
    {
     "name": "stdout",
     "output_type": "stream",
     "text": [
      "Epoch 1/5\n",
      "188/188 [==============================] - 107s 568ms/step - loss: 1.4663 - accuracy: 0.5315 - val_loss: 2.0406 - val_accuracy: 0.3904\n",
      "Epoch 2/5\n",
      "188/188 [==============================] - 107s 570ms/step - loss: 1.4563 - accuracy: 0.5300 - val_loss: 2.0619 - val_accuracy: 0.3840\n",
      "Epoch 3/5\n",
      "188/188 [==============================] - 107s 567ms/step - loss: 1.4163 - accuracy: 0.5441 - val_loss: 2.1096 - val_accuracy: 0.3752\n",
      "Epoch 4/5\n",
      "188/188 [==============================] - 107s 569ms/step - loss: 1.3855 - accuracy: 0.5497 - val_loss: 2.0947 - val_accuracy: 0.3920\n",
      "Epoch 00004: early stopping\n"
     ]
    },
    {
     "data": {
      "text/plain": [
       "<tensorflow.python.keras.callbacks.History at 0x7f345e9db450>"
      ]
     },
     "execution_count": 104,
     "metadata": {
      "tags": []
     },
     "output_type": "execute_result"
    }
   ],
   "source": [
    "early_stop = EarlyStopping(monitor='val_loss', \n",
    "                           patience=3, \n",
    "                           mode='min', \n",
    "                           verbose=1)\n",
    "model4.fit(train_generator,\n",
    "          epochs=5,\n",
    "          callbacks=[early_stop],\n",
    "          validation_data=validation_generator)"
   ]
  },
  {
   "cell_type": "markdown",
   "metadata": {},
   "source": [
    "Model tops out at about 39% validation accuracy, highest obtained so far. Saving for use after colab sessions ends:"
   ]
  },
  {
   "cell_type": "code",
   "execution_count": null,
   "metadata": {
    "colab": {
     "base_uri": "https://localhost:8080/"
    },
    "id": "OYNM5O7HQv3E",
    "outputId": "51a5a96b-1005-473e-a6e0-ef3fb304f21a"
   },
   "outputs": [
    {
     "name": "stdout",
     "output_type": "stream",
     "text": [
      "INFO:tensorflow:Assets written to: Res_Best/assets\n"
     ]
    }
   ],
   "source": [
    "!mkdir Res_Best\n",
    "model4.save('Res_Best')"
   ]
  },
  {
   "cell_type": "code",
   "execution_count": null,
   "metadata": {
    "id": "TL6Kh03hRKZ4"
   },
   "outputs": [],
   "source": [
    "cp -r Res_Best/ drive/MyDrive/"
   ]
  },
  {
   "cell_type": "markdown",
   "metadata": {},
   "source": [
    "Now trying unfreezing last few layers of this model, again making sure to unfreeze blocks together. Number of layers unfrozen is different due to differenct architecture of ResNet compared to Xception"
   ]
  },
  {
   "cell_type": "code",
   "execution_count": null,
   "metadata": {
    "colab": {
     "base_uri": "https://localhost:8080/"
    },
    "id": "Zs-4VCGgTNcF",
    "outputId": "037beef6-a114-4fdf-f82d-6925f8464f41"
   },
   "outputs": [
    {
     "name": "stdout",
     "output_type": "stream",
     "text": [
      "Epoch 1/6\n",
      "188/188 [==============================] - 107s 567ms/step - loss: 1.3096 - accuracy: 0.5753 - val_loss: 2.1211 - val_accuracy: 0.3912\n",
      "Epoch 2/6\n",
      "188/188 [==============================] - 106s 565ms/step - loss: 1.2908 - accuracy: 0.5784 - val_loss: 2.1897 - val_accuracy: 0.3864\n",
      "Epoch 3/6\n",
      "188/188 [==============================] - 106s 565ms/step - loss: 1.2717 - accuracy: 0.5879 - val_loss: 2.1431 - val_accuracy: 0.4012\n",
      "Epoch 4/6\n",
      "188/188 [==============================] - 104s 556ms/step - loss: 1.2623 - accuracy: 0.5869 - val_loss: 2.1977 - val_accuracy: 0.3896\n",
      "Epoch 00004: early stopping\n"
     ]
    },
    {
     "data": {
      "text/plain": [
       "<tensorflow.python.keras.callbacks.History at 0x7f345c018690>"
      ]
     },
     "execution_count": 109,
     "metadata": {
      "tags": []
     },
     "output_type": "execute_result"
    }
   ],
   "source": [
    "#Unfreeze 15 last layers (conv5_block3) on Res_Best\n",
    "from tensorflow.keras import layers\n",
    "\n",
    "for layer in model4.layers:\n",
    "    layer.trainable = False\n",
    "\n",
    "for layer in model4.layers[-15:]:             \n",
    "        if not isinstance(layer, layers.BatchNormalization):\n",
    "            layer.trainable = True\n",
    "model4.fit(train_generator,\n",
    "          epochs=6,\n",
    "          callbacks=[early_stop],\n",
    "          validation_data=validation_generator)"
   ]
  },
  {
   "cell_type": "code",
   "execution_count": null,
   "metadata": {
    "colab": {
     "base_uri": "https://localhost:8080/"
    },
    "id": "SZ1wgeTzWQt9",
    "outputId": "33bb992a-886b-468d-a381-9d78e4040949"
   },
   "outputs": [
    {
     "name": "stdout",
     "output_type": "stream",
     "text": [
      "Epoch 1/10\n",
      "188/188 [==============================] - 104s 555ms/step - loss: 1.2542 - accuracy: 0.5936 - val_loss: 2.1558 - val_accuracy: 0.3952\n",
      "Epoch 2/10\n",
      "188/188 [==============================] - 104s 554ms/step - loss: 1.2443 - accuracy: 0.5929 - val_loss: 2.1561 - val_accuracy: 0.4008\n",
      "Epoch 3/10\n",
      "188/188 [==============================] - 104s 554ms/step - loss: 1.2324 - accuracy: 0.5981 - val_loss: 2.1987 - val_accuracy: 0.3936\n",
      "Epoch 4/10\n",
      "188/188 [==============================] - 105s 556ms/step - loss: 1.2076 - accuracy: 0.6076 - val_loss: 2.1806 - val_accuracy: 0.3924\n",
      "Epoch 00004: early stopping\n"
     ]
    },
    {
     "data": {
      "text/plain": [
       "<tensorflow.python.keras.callbacks.History at 0x7f345acfbe90>"
      ]
     },
     "execution_count": 110,
     "metadata": {
      "tags": []
     },
     "output_type": "execute_result"
    }
   ],
   "source": [
    "model4.fit(train_generator,\n",
    "          epochs=10,\n",
    "          callbacks=[early_stop],\n",
    "          validation_data=validation_generator)"
   ]
  },
  {
   "cell_type": "markdown",
   "metadata": {},
   "source": [
    "Slight improvement to accuracy, tried unfreezing 26 layers next (agian similar accuracy numbers) and finally 38 layers:"
   ]
  },
  {
   "cell_type": "code",
   "execution_count": null,
   "metadata": {
    "colab": {
     "base_uri": "https://localhost:8080/"
    },
    "id": "PG90qxeEYkVu",
    "outputId": "9c6b89de-348f-4b9f-a154-862072671ea7"
   },
   "outputs": [
    {
     "name": "stdout",
     "output_type": "stream",
     "text": [
      "Epoch 1/6\n",
      "188/188 [==============================] - 104s 554ms/step - loss: 1.1795 - accuracy: 0.6207 - val_loss: 2.2314 - val_accuracy: 0.3964\n",
      "Epoch 2/6\n",
      "188/188 [==============================] - 103s 549ms/step - loss: 1.1722 - accuracy: 0.6072 - val_loss: 2.2762 - val_accuracy: 0.3936\n",
      "Epoch 3/6\n",
      "188/188 [==============================] - 104s 551ms/step - loss: 1.1626 - accuracy: 0.6181 - val_loss: 2.2654 - val_accuracy: 0.4004\n",
      "Epoch 4/6\n",
      "188/188 [==============================] - 104s 551ms/step - loss: 1.1617 - accuracy: 0.6136 - val_loss: 2.3199 - val_accuracy: 0.3680\n",
      "Epoch 00004: early stopping\n"
     ]
    },
    {
     "data": {
      "text/plain": [
       "<tensorflow.python.keras.callbacks.History at 0x7f345af6aed0>"
      ]
     },
     "execution_count": 113,
     "metadata": {
      "tags": []
     },
     "output_type": "execute_result"
    }
   ],
   "source": [
    "for layer in model4.layers[-38:]:             \n",
    "        if not isinstance(layer, layers.BatchNormalization):\n",
    "            layer.trainable = True\n",
    "model4.fit(train_generator,\n",
    "          epochs=6,\n",
    "          callbacks=[early_stop],\n",
    "          validation_data=validation_generator)"
   ]
  },
  {
   "cell_type": "markdown",
   "metadata": {},
   "source": [
    "As can be see, validation loss has started inceasing and unfreezing seems to offer no benefit"
   ]
  },
  {
   "cell_type": "code",
   "execution_count": null,
   "metadata": {
    "id": "wOSKRpn_Fwat"
   },
   "outputs": [],
   "source": [
    "!cp -r drive/MyDrive/Res_Best/ ."
   ]
  },
  {
   "cell_type": "code",
   "execution_count": null,
   "metadata": {
    "id": "0AYi5k1EG_-g"
   },
   "outputs": [],
   "source": [
    "from tensorflow.keras.models import load_model\n",
    "model=load_model('./Res_Best')"
   ]
  },
  {
   "cell_type": "code",
   "execution_count": null,
   "metadata": {
    "colab": {
     "base_uri": "https://localhost:8080/"
    },
    "id": "5hDAWDSOHksG",
    "outputId": "e8c0f462-ace0-4e01-bff4-f1bdfd1a8693"
   },
   "outputs": [
    {
     "name": "stdout",
     "output_type": "stream",
     "text": [
      "Found 8000 validated image filenames belonging to 20 classes.\n"
     ]
    }
   ],
   "source": [
    "testpath = 'test'\n",
    "\n",
    "test_gen=ImageDataGenerator(rescale=1./255.)\n",
    "\n",
    "height=224\n",
    "width=224\n",
    "\n",
    "test_generator=test_gen.flow_from_dataframe(\n",
    "dataframe=dftest[:8000],\n",
    "directory=testpath,\n",
    "x_col=\"new_filename\",\n",
    "y_col=\"style\",\n",
    "#subset=\"training\",\n",
    "color_mode='rgb',\n",
    "batch_size=60,\n",
    "seed=42,\n",
    "#shuffle=True,\n",
    "class_mode=\"categorical\",\n",
    "target_size=(height,width))\n",
    "\n"
   ]
  },
  {
   "cell_type": "code",
   "execution_count": null,
   "metadata": {
    "id": "BRVpLhjEonnn"
   },
   "outputs": [],
   "source": [
    "model4.evaluate(test_generator)"
   ]
  },
  {
   "cell_type": "markdown",
   "metadata": {
    "id": "HHgRR_s9oY_b"
   },
   "source": [
    "### Experimenting with Cyclical Learning Rate\n",
    "\n",
    "Code obtained from https://www.kaggle.com/robotdreams/one-cycle-policy-with-keras, adapted to used Xception fit model from above"
   ]
  },
  {
   "cell_type": "code",
   "execution_count": null,
   "metadata": {
    "id": "gCfwNyTjxzbw"
   },
   "outputs": [],
   "source": [
    "from sklearn.metrics import log_loss, roc_auc_score, accuracy_score\n",
    "from tensorflow.keras.losses import binary_crossentropy\n",
    "from tensorflow.keras.metrics import binary_accuracy\n",
    "from tensorflow.keras import backend as K\n",
    "from tensorflow.keras.callbacks import *\n",
    "\n",
    "class CyclicLR(Callback):\n",
    "    \n",
    "    def __init__(self,base_lr, max_lr, step_size, base_m, max_m, cyclical_momentum):\n",
    " \n",
    "        self.base_lr = base_lr\n",
    "        self.max_lr = max_lr\n",
    "        self.base_m = base_m\n",
    "        self.max_m = max_m\n",
    "        self.cyclical_momentum = cyclical_momentum\n",
    "        self.step_size = step_size\n",
    "        \n",
    "        self.clr_iterations = 0.\n",
    "        self.cm_iterations = 0.\n",
    "        self.trn_iterations = 0.\n",
    "        self.history = {}\n",
    "        \n",
    "    def clr(self):\n",
    "        \n",
    "        cycle = np.floor(1+self.clr_iterations/(2*self.step_size))\n",
    "        \n",
    "        if cycle == 2:\n",
    "            x = np.abs(self.clr_iterations/self.step_size - 2*cycle + 1)          \n",
    "            return self.base_lr-(self.base_lr-self.base_lr/100)*np.maximum(0,(1-x))\n",
    "        \n",
    "        else:\n",
    "            x = np.abs(self.clr_iterations/self.step_size - 2*cycle + 1)\n",
    "            return self.base_lr + (self.max_lr-self.base_lr)*np.maximum(0,(1-x))\n",
    "    \n",
    "    def cm(self):\n",
    "        \n",
    "        cycle = np.floor(1+self.clr_iterations/(2*self.step_size))\n",
    "        \n",
    "        if cycle == 2:\n",
    "            \n",
    "            x = np.abs(self.clr_iterations/self.step_size - 2*cycle + 1) \n",
    "            return self.max_m\n",
    "        \n",
    "        else:\n",
    "            x = np.abs(self.clr_iterations/self.step_size - 2*cycle + 1)\n",
    "            return self.max_m - (self.max_m-self.base_m)*np.maximum(0,(1-x))\n",
    "        \n",
    "        \n",
    "    def on_train_begin(self, logs={}):\n",
    "        logs = logs or {}\n",
    "\n",
    "        if self.clr_iterations == 0:\n",
    "            K.set_value(self.model.optimizer.lr, self.base_lr)\n",
    "        else:\n",
    "            K.set_value(self.model.optimizer.lr, self.clr())\n",
    "            \n",
    "        if self.cyclical_momentum == True:\n",
    "            if self.clr_iterations == 0:\n",
    "                K.set_value(self.model.optimizer.momentum, self.cm())\n",
    "            else:\n",
    "                K.set_value(self.model.optimizer.momentum, self.cm())\n",
    "            \n",
    "            \n",
    "    def on_batch_begin(self, batch, logs=None):\n",
    "        \n",
    "        logs = logs or {}\n",
    "        self.trn_iterations += 1\n",
    "        self.clr_iterations += 1\n",
    "\n",
    "        self.history.setdefault('lr', []).append(K.get_value(self.model.optimizer.lr))\n",
    "        self.history.setdefault('iterations', []).append(self.trn_iterations)\n",
    "        \n",
    "        if self.cyclical_momentum == True:\n",
    "            self.history.setdefault('momentum', []).append(K.get_value(self.model.optimizer.momentum))\n",
    "\n",
    "        for k, v in logs.items():\n",
    "            self.history.setdefault(k, []).append(v)\n",
    "        \n",
    "        K.set_value(self.model.optimizer.lr, self.clr())\n",
    "        \n",
    "        if self.cyclical_momentum == True:\n",
    "            K.set_value(self.model.optimizer.momentum, self.cm())"
   ]
  },
  {
   "cell_type": "code",
   "execution_count": null,
   "metadata": {
    "colab": {
     "base_uri": "https://localhost:8080/"
    },
    "id": "QXtsnmT55tdC",
    "outputId": "24c9bbd5-a460-415b-cc93-df6b768d439c"
   },
   "outputs": [
    {
     "name": "stdout",
     "output_type": "stream",
     "text": [
      "Epoch 1/10\n",
      "188/188 [==============================] - 134s 692ms/step - loss: 1.1130 - accuracy: 0.4041 - val_loss: 0.7964 - val_accuracy: 0.2780\n",
      "\n",
      "Epoch 00001: val_loss improved from inf to 0.79636, saving model to best_model.h5\n",
      "Epoch 2/10\n",
      "188/188 [==============================] - 112s 594ms/step - loss: 0.7263 - accuracy: 0.3480 - val_loss: 0.5545 - val_accuracy: 0.2280\n",
      "\n",
      "Epoch 00002: val_loss improved from 0.79636 to 0.55450, saving model to best_model.h5\n",
      "Epoch 3/10\n",
      "188/188 [==============================] - 112s 594ms/step - loss: 0.4842 - accuracy: 0.2552 - val_loss: 0.3232 - val_accuracy: 0.1848\n",
      "\n",
      "Epoch 00003: val_loss improved from 0.55450 to 0.32320, saving model to best_model.h5\n",
      "Epoch 4/10\n",
      "188/188 [==============================] - 110s 587ms/step - loss: 0.2725 - accuracy: 0.2118 - val_loss: 0.2253 - val_accuracy: 0.2072\n",
      "\n",
      "Epoch 00004: val_loss improved from 0.32320 to 0.22526, saving model to best_model.h5\n",
      "Epoch 5/10\n",
      "188/188 [==============================] - 111s 588ms/step - loss: 0.2084 - accuracy: 0.2510 - val_loss: 0.2105 - val_accuracy: 0.2340\n",
      "\n",
      "Epoch 00005: val_loss improved from 0.22526 to 0.21051, saving model to best_model.h5\n",
      "Epoch 6/10\n",
      "188/188 [==============================] - 111s 589ms/step - loss: 0.1975 - accuracy: 0.2716 - val_loss: 0.2043 - val_accuracy: 0.2372\n",
      "\n",
      "Epoch 00006: val_loss improved from 0.21051 to 0.20431, saving model to best_model.h5\n",
      "Epoch 7/10\n",
      "188/188 [==============================] - 112s 593ms/step - loss: 0.1927 - accuracy: 0.2729 - val_loss: 0.2008 - val_accuracy: 0.2424\n",
      "\n",
      "Epoch 00007: val_loss improved from 0.20431 to 0.20085, saving model to best_model.h5\n",
      "Epoch 8/10\n",
      "188/188 [==============================] - 111s 592ms/step - loss: 0.1881 - accuracy: 0.2878 - val_loss: 0.1991 - val_accuracy: 0.2440\n",
      "\n",
      "Epoch 00008: val_loss improved from 0.20085 to 0.19905, saving model to best_model.h5\n",
      "Epoch 9/10\n",
      "188/188 [==============================] - 111s 592ms/step - loss: 0.1876 - accuracy: 0.2782 - val_loss: 0.1984 - val_accuracy: 0.2452\n",
      "\n",
      "Epoch 00009: val_loss improved from 0.19905 to 0.19838, saving model to best_model.h5\n",
      "Epoch 10/10\n",
      "188/188 [==============================] - 111s 588ms/step - loss: 0.1874 - accuracy: 0.2955 - val_loss: 0.1980 - val_accuracy: 0.2456\n",
      "\n",
      "Epoch 00010: val_loss improved from 0.19838 to 0.19798, saving model to best_model.h5\n"
     ]
    }
   ],
   "source": [
    "from tensorflow.keras.optimizers import Adam, SGD\n",
    "from tensorflow.keras.callbacks import ModelCheckpoint, ReduceLROnPlateau, EarlyStopping\n",
    "\n",
    "# CLR parameters\n",
    "\n",
    "batch_size = 40\n",
    "epochs = 10\n",
    "max_lr = 0.0005\n",
    "base_lr = max_lr/10\n",
    "max_m = 0.98\n",
    "base_m = 0.85\n",
    "\n",
    "cyclical_momentum = True\n",
    "#augment = True\n",
    "cycles = 2.35\n",
    "\n",
    "iterations = round(7500/batch_size*epochs)\n",
    "iterations = list(range(0,iterations+1))\n",
    "step_size = len(iterations)/(cycles)\n",
    "\n",
    "\n",
    "model3.compile(loss='binary_crossentropy', optimizer=SGD(0.0000001), metrics=['accuracy'])\n",
    "\n",
    "clr =  CyclicLR(base_lr=base_lr,\n",
    "                max_lr=max_lr,\n",
    "                step_size=step_size,\n",
    "                max_m=max_m,\n",
    "                base_m=base_m,\n",
    "                cyclical_momentum=cyclical_momentum)\n",
    "    \n",
    "callbacks = [clr,\n",
    "            ModelCheckpoint(filepath='best_model.h5', monitor='val_loss',mode='min',verbose=1,save_best_only=True)]\n",
    "\n",
    "history = model3.fit(train_generator,\n",
    "                              validation_data=validation_generator,\n",
    "                              epochs = epochs,\n",
    "                              steps_per_epoch = (7500) // batch_size + 1,\n",
    "                              validation_steps = (2500) // batch_size + 1,\n",
    "                              callbacks=callbacks,\n",
    "                              verbose = 1)"
   ]
  },
  {
   "cell_type": "markdown",
   "metadata": {},
   "source": [
    "##### As can be seen, validation loss was drastically reduced but also at the cost of accuracy down form about 30%. Plotting some of the changing qunatities: "
   ]
  },
  {
   "cell_type": "code",
   "execution_count": null,
   "metadata": {
    "colab": {
     "base_uri": "https://localhost:8080/",
     "height": 295
    },
    "id": "B82Cv_5s6xPl",
    "outputId": "858ec24c-ec5a-48ee-9204-abadadd34c22"
   },
   "outputs": [
    {
     "data": {
      "image/png": "[encoded data removed]",
      "text/plain": [
       "<Figure size 432x288 with 1 Axes>"
      ]
     },
     "metadata": {
      "needs_background": "light",
      "tags": []
     },
     "output_type": "display_data"
    }
   ],
   "source": [
    "# Plot losses\n",
    "val_loss = history.history['val_loss']\n",
    "loss = history.history['loss']\n",
    "plt.plot(range(len(val_loss)),val_loss,'c',label='Validation loss')\n",
    "plt.plot(range(len(loss)),loss,'m',label='Train loss')\n",
    "\n",
    "plt.title('Training and validation losses')\n",
    "plt.legend()\n",
    "plt.xlabel('epochs')\n",
    "plt.show()"
   ]
  },
  {
   "cell_type": "code",
   "execution_count": null,
   "metadata": {
    "colab": {
     "base_uri": "https://localhost:8080/",
     "height": 295
    },
    "id": "tzrEIBLSrJn1",
    "outputId": "273e49f3-bdcf-4463-8569-3a0ddb2e392b"
   },
   "outputs": [
    {
     "data": {
      "image/png": "[encoded data removed]",
      "text/plain": [
       "<Figure size 432x288 with 1 Axes>"
      ]
     },
     "metadata": {
      "needs_background": "light",
      "tags": []
     },
     "output_type": "display_data"
    }
   ],
   "source": [
    "# Plot Learning Rate\n",
    "import matplotlib.pyplot as plt\n",
    "plt.plot(clr.history['iterations'], clr.history['lr'])\n",
    "plt.xlabel('Training Iterations')\n",
    "plt.ylabel('Learning Rate')\n",
    "plt.title(\"One Cycle Policy\")\n",
    "plt.show()"
   ]
  },
  {
   "cell_type": "code",
   "execution_count": null,
   "metadata": {
    "colab": {
     "base_uri": "https://localhost:8080/",
     "height": 295
    },
    "id": "c_q7FJFBykTl",
    "outputId": "2272871e-3c10-4c98-dc91-caf32f896b16"
   },
   "outputs": [
    {
     "data": {
      "image/png": "[encoded data removed]",
      "text/plain": [
       "<Figure size 432x288 with 1 Axes>"
      ]
     },
     "metadata": {
      "needs_background": "light",
      "tags": []
     },
     "output_type": "display_data"
    }
   ],
   "source": [
    "# Plot momentum\n",
    "import matplotlib.pyplot as plt\n",
    "plt.plot(clr.history['iterations'], clr.history['momentum'])\n",
    "plt.xlabel('Training Iterations')\n",
    "plt.ylabel('Momentum')\n",
    "plt.title(\"One Cycle Policy\")\n",
    "plt.show()"
   ]
  },
  {
   "cell_type": "markdown",
   "metadata": {},
   "source": [
    "Try again with higher max learning rate (0.001, which is the default in Keras, up from the 0.0005 used above):"
   ]
  },
  {
   "cell_type": "code",
   "execution_count": null,
   "metadata": {
    "colab": {
     "base_uri": "https://localhost:8080/"
    },
    "id": "09bzrF1JypVe",
    "outputId": "db58a513-4952-4b30-e85d-6aa9ac61b52e"
   },
   "outputs": [
    {
     "name": "stdout",
     "output_type": "stream",
     "text": [
      "Epoch 1/10\n",
      "188/188 [==============================] - 114s 590ms/step - loss: 0.1869 - accuracy: 0.2834 - val_loss: 0.1959 - val_accuracy: 0.2448\n",
      "\n",
      "Epoch 00001: val_loss improved from inf to 0.19594, saving model to best_model.h5\n",
      "Epoch 2/10\n",
      "188/188 [==============================] - 109s 580ms/step - loss: 0.1860 - accuracy: 0.2984 - val_loss: 0.1924 - val_accuracy: 0.2500\n",
      "\n",
      "Epoch 00002: val_loss improved from 0.19594 to 0.19235, saving model to best_model.h5\n",
      "Epoch 3/10\n",
      "188/188 [==============================] - 109s 582ms/step - loss: 0.1802 - accuracy: 0.3031 - val_loss: 0.1882 - val_accuracy: 0.2524\n",
      "\n",
      "Epoch 00003: val_loss improved from 0.19235 to 0.18816, saving model to best_model.h5\n",
      "Epoch 4/10\n",
      "188/188 [==============================] - 109s 582ms/step - loss: 0.1779 - accuracy: 0.3147 - val_loss: 0.1842 - val_accuracy: 0.2560\n",
      "\n",
      "Epoch 00004: val_loss improved from 0.18816 to 0.18420, saving model to best_model.h5\n",
      "Epoch 5/10\n",
      "188/188 [==============================] - 109s 582ms/step - loss: 0.1722 - accuracy: 0.3216 - val_loss: 0.1809 - val_accuracy: 0.2628\n",
      "\n",
      "Epoch 00005: val_loss improved from 0.18420 to 0.18086, saving model to best_model.h5\n",
      "Epoch 6/10\n",
      "188/188 [==============================] - 110s 583ms/step - loss: 0.1723 - accuracy: 0.3070 - val_loss: 0.1790 - val_accuracy: 0.2684\n",
      "\n",
      "Epoch 00006: val_loss improved from 0.18086 to 0.17903, saving model to best_model.h5\n",
      "Epoch 7/10\n",
      "188/188 [==============================] - 110s 584ms/step - loss: 0.1689 - accuracy: 0.3224 - val_loss: 0.1782 - val_accuracy: 0.2696\n",
      "\n",
      "Epoch 00007: val_loss improved from 0.17903 to 0.17816, saving model to best_model.h5\n",
      "Epoch 8/10\n",
      "188/188 [==============================] - 110s 583ms/step - loss: 0.1676 - accuracy: 0.3381 - val_loss: 0.1776 - val_accuracy: 0.2700\n",
      "\n",
      "Epoch 00008: val_loss improved from 0.17816 to 0.17761, saving model to best_model.h5\n",
      "Epoch 9/10\n",
      "188/188 [==============================] - 109s 582ms/step - loss: 0.1673 - accuracy: 0.3308 - val_loss: 0.1774 - val_accuracy: 0.2700\n",
      "\n",
      "Epoch 00009: val_loss improved from 0.17761 to 0.17738, saving model to best_model.h5\n",
      "Epoch 10/10\n",
      "188/188 [==============================] - 106s 564ms/step - loss: 0.1678 - accuracy: 0.3270 - val_loss: 0.1773 - val_accuracy: 0.2696\n",
      "\n",
      "Epoch 00010: val_loss improved from 0.17738 to 0.17726, saving model to best_model.h5\n"
     ]
    }
   ],
   "source": [
    "from tensorflow.keras.optimizers import Adam, SGD\n",
    "from tensorflow.keras.callbacks import ModelCheckpoint, ReduceLROnPlateau, EarlyStopping\n",
    "\n",
    "# CLR parameters\n",
    "\n",
    "batch_size = 40\n",
    "epochs = 10\n",
    "max_lr = 0.001\n",
    "base_lr = max_lr/10\n",
    "max_m = 0.98\n",
    "base_m = 0.85\n",
    "\n",
    "cyclical_momentum = True\n",
    "#augment = True\n",
    "cycles = 2.35\n",
    "\n",
    "iterations = round(7500/batch_size*epochs)\n",
    "iterations = list(range(0,iterations+1))\n",
    "step_size = len(iterations)/(cycles)\n",
    "\n",
    "\n",
    "model3.compile(loss='binary_crossentropy', optimizer=SGD(0.0000001), metrics=['accuracy'])\n",
    "\n",
    "clr =  CyclicLR(base_lr=base_lr,\n",
    "                max_lr=max_lr,\n",
    "                step_size=step_size,\n",
    "                max_m=max_m,\n",
    "                base_m=base_m,\n",
    "                cyclical_momentum=cyclical_momentum)\n",
    "    \n",
    "callbacks = [clr,\n",
    "            ModelCheckpoint(filepath='best_model.h5', monitor='val_loss',mode='min',verbose=1,save_best_only=True)]\n",
    "\n",
    "history = model3.fit(train_generator,\n",
    "                              validation_data=validation_generator,\n",
    "                              epochs = epochs,\n",
    "                              steps_per_epoch = (7500) // batch_size + 1,\n",
    "                              validation_steps = (2500) // batch_size + 1,\n",
    "                              callbacks=callbacks,\n",
    "                              verbose = 1)"
   ]
  },
  {
   "cell_type": "markdown",
   "metadata": {},
   "source": [
    "##### Seems an improvement of about 2-3% in accuracy while still keeping loss fairly low. Next, try cyclical after unfreezing layers:"
   ]
  },
  {
   "cell_type": "code",
   "execution_count": null,
   "metadata": {
    "colab": {
     "base_uri": "https://localhost:8080/"
    },
    "id": "8UHEd7SN5-Sw",
    "outputId": "736078ed-9301-49cd-8213-c75ff5a35196"
   },
   "outputs": [
    {
     "name": "stdout",
     "output_type": "stream",
     "text": [
      "Epoch 1/6\n",
      "188/188 [==============================] - 106s 566ms/step - loss: 0.1670 - accuracy: 0.3264 - val_loss: 0.1772 - val_accuracy: 0.2700\n",
      "Epoch 2/6\n",
      "188/188 [==============================] - 106s 565ms/step - loss: 0.1674 - accuracy: 0.3189 - val_loss: 0.1771 - val_accuracy: 0.2692\n",
      "Epoch 3/6\n",
      "188/188 [==============================] - 106s 561ms/step - loss: 0.1673 - accuracy: 0.3172 - val_loss: 0.1769 - val_accuracy: 0.2696\n",
      "Epoch 4/6\n",
      "188/188 [==============================] - 106s 561ms/step - loss: 0.1673 - accuracy: 0.3272 - val_loss: 0.1768 - val_accuracy: 0.2700\n",
      "Epoch 5/6\n",
      "188/188 [==============================] - 105s 558ms/step - loss: 0.1668 - accuracy: 0.3276 - val_loss: 0.1767 - val_accuracy: 0.2708\n",
      "Epoch 6/6\n",
      "188/188 [==============================] - 105s 557ms/step - loss: 0.1668 - accuracy: 0.3185 - val_loss: 0.1766 - val_accuracy: 0.2716\n"
     ]
    },
    {
     "data": {
      "text/plain": [
       "<tensorflow.python.keras.callbacks.History at 0x7f387264c750>"
      ]
     },
     "execution_count": 85,
     "metadata": {
      "tags": []
     },
     "output_type": "execute_result"
    }
   ],
   "source": [
    "from tensorflow.keras import layers\n",
    "\n",
    "for layer in model3.layers:\n",
    "    layer.trainable = False\n",
    "\n",
    "for layer in model3.layers[-40:]:             #Unfreezing upto all block11 layers\n",
    "        if not isinstance(layer, layers.BatchNormalization):\n",
    "            layer.trainable = True\n",
    "model3.fit(train_generator,\n",
    "          epochs=6,\n",
    "          callbacks=[early_stop],\n",
    "          validation_data=validation_generator)"
   ]
  },
  {
   "cell_type": "markdown",
   "metadata": {},
   "source": [
    "As with earlier fitting, unfreezing seems to have almost no impact. "
   ]
  },
  {
   "cell_type": "code",
   "execution_count": null,
   "metadata": {
    "colab": {
     "base_uri": "https://localhost:8080/"
    },
    "id": "XyudMlWMaM7k",
    "outputId": "7985a945-0fbe-4260-e3a0-da71a47bfa0e"
   },
   "outputs": [
    {
     "name": "stdout",
     "output_type": "stream",
     "text": [
      "INFO:tensorflow:Assets written to: Xcep_lowvalloss/assets\n"
     ]
    }
   ],
   "source": [
    "!mkdir Xcep_lowvalloss\n",
    "model3.save('Xcep_lowvalloss')"
   ]
  }
 ],
 "metadata": {
  "accelerator": "GPU",
  "colab": {
   "collapsed_sections": [],
   "machine_shape": "hm",
   "name": "Capstone_StyleClassification.ipynb",
   "provenance": []
  },
  "kernelspec": {
   "display_name": "Python 3",
   "language": "python",
   "name": "python3"
  },
  "language_info": {
   "codemirror_mode": {
    "name": "ipython",
    "version": 3
   },
   "file_extension": ".py",
   "mimetype": "text/x-python",
   "name": "python",
   "nbconvert_exporter": "python",
   "pygments_lexer": "ipython3",
   "version": "3.7.6"
  }
 },
 "nbformat": 4,
 "nbformat_minor": 4
}
